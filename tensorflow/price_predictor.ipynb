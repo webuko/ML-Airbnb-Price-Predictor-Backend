{
 "cells": [
  {
   "cell_type": "markdown",
   "id": "02057554",
   "metadata": {},
   "source": [
    "### import modules"
   ]
  },
  {
   "cell_type": "code",
   "execution_count": 104,
   "id": "3b49c6b3",
   "metadata": {},
   "outputs": [],
   "source": [
    "import pandas as pd\n",
    "\n",
    "import matplotlib.pyplot as plt\n",
    "%matplotlib inline\n",
    "\n",
    "import seaborn as sns\n",
    "\n",
    "from sklearn.model_selection import train_test_split\n",
    "from sklearn.linear_model import LinearRegression, Lasso\n",
    "from sklearn import metrics\n",
    "from sklearn.ensemble import RandomForestRegressor\n",
    "from sklearn.preprocessing import OneHotEncoder, LabelBinarizer\n",
    "\n",
    "import numpy as np\n",
    "\n",
    "import tensorflow as tf\n",
    "\n",
    "from tensorflow import keras\n",
    "from tensorflow.keras import layers\n",
    "from tensorflow.keras.layers.experimental import preprocessing\n",
    "\n",
    "from collections import Counter\n",
    "\n",
    "from scipy import stats\n",
    "\n",
    "import pickle\n",
    "\n",
    "# set style\n",
    "plt.style.use('seaborn')"
   ]
  },
  {
   "cell_type": "markdown",
   "id": "cf797788",
   "metadata": {},
   "source": [
    "### import data"
   ]
  },
  {
   "cell_type": "code",
   "execution_count": 105,
   "id": "d7e23bde",
   "metadata": {
    "scrolled": true
   },
   "outputs": [
    {
     "name": "stderr",
     "output_type": "stream",
     "text": [
      "/opt/anaconda3/lib/python3.7/site-packages/IPython/core/interactiveshell.py:3166: DtypeWarning: Columns (43,61,62) have mixed types.Specify dtype option on import or set low_memory=False.\n",
      "  interactivity=interactivity, compiler=compiler, result=result)\n"
     ]
    }
   ],
   "source": [
    "data = pd.read_csv('/Users/silvanwehrli/Documents/Universität/FS21/Advanced Software Engineering/Project/modeling/listings_Berlin_2020_01_20.csv')"
   ]
  },
  {
   "cell_type": "code",
   "execution_count": 106,
   "id": "2038d951",
   "metadata": {
    "scrolled": true
   },
   "outputs": [
    {
     "data": {
      "text/html": [
       "<div>\n",
       "<style scoped>\n",
       "    .dataframe tbody tr th:only-of-type {\n",
       "        vertical-align: middle;\n",
       "    }\n",
       "\n",
       "    .dataframe tbody tr th {\n",
       "        vertical-align: top;\n",
       "    }\n",
       "\n",
       "    .dataframe thead th {\n",
       "        text-align: right;\n",
       "    }\n",
       "</style>\n",
       "<table border=\"1\" class=\"dataframe\">\n",
       "  <thead>\n",
       "    <tr style=\"text-align: right;\">\n",
       "      <th></th>\n",
       "      <th>id</th>\n",
       "      <th>listing_url</th>\n",
       "      <th>scrape_id</th>\n",
       "      <th>last_scraped</th>\n",
       "      <th>name</th>\n",
       "      <th>summary</th>\n",
       "      <th>space</th>\n",
       "      <th>description</th>\n",
       "      <th>experiences_offered</th>\n",
       "      <th>neighborhood_overview</th>\n",
       "      <th>...</th>\n",
       "      <th>instant_bookable</th>\n",
       "      <th>is_business_travel_ready</th>\n",
       "      <th>cancellation_policy</th>\n",
       "      <th>require_guest_profile_picture</th>\n",
       "      <th>require_guest_phone_verification</th>\n",
       "      <th>calculated_host_listings_count</th>\n",
       "      <th>calculated_host_listings_count_entire_homes</th>\n",
       "      <th>calculated_host_listings_count_private_rooms</th>\n",
       "      <th>calculated_host_listings_count_shared_rooms</th>\n",
       "      <th>reviews_per_month</th>\n",
       "    </tr>\n",
       "  </thead>\n",
       "  <tbody>\n",
       "    <tr>\n",
       "      <th>0</th>\n",
       "      <td>2015</td>\n",
       "      <td>https://www.airbnb.com/rooms/2015</td>\n",
       "      <td>20200110222913</td>\n",
       "      <td>2020-01-11</td>\n",
       "      <td>Berlin-Mitte Value! Quiet courtyard/very central</td>\n",
       "      <td>Great location!  30 of 75 sq meters. This wood...</td>\n",
       "      <td>A+++ location! This „Einliegerwohnung“ is an e...</td>\n",
       "      <td>Great location!  30 of 75 sq meters. This wood...</td>\n",
       "      <td>none</td>\n",
       "      <td>It is located in the former East Berlin area o...</td>\n",
       "      <td>...</td>\n",
       "      <td>f</td>\n",
       "      <td>f</td>\n",
       "      <td>strict_14_with_grace_period</td>\n",
       "      <td>f</td>\n",
       "      <td>f</td>\n",
       "      <td>6</td>\n",
       "      <td>6</td>\n",
       "      <td>0</td>\n",
       "      <td>0</td>\n",
       "      <td>2.84</td>\n",
       "    </tr>\n",
       "    <tr>\n",
       "      <th>1</th>\n",
       "      <td>3176</td>\n",
       "      <td>https://www.airbnb.com/rooms/3176</td>\n",
       "      <td>20200110222913</td>\n",
       "      <td>2020-01-11</td>\n",
       "      <td>Fabulous Flat in great Location</td>\n",
       "      <td>This beautiful first floor apartment  is situa...</td>\n",
       "      <td>1st floor (68m2) apartment on Kollwitzplatz/ P...</td>\n",
       "      <td>This beautiful first floor apartment  is situa...</td>\n",
       "      <td>none</td>\n",
       "      <td>The neighbourhood is famous for its variety of...</td>\n",
       "      <td>...</td>\n",
       "      <td>f</td>\n",
       "      <td>f</td>\n",
       "      <td>strict_14_with_grace_period</td>\n",
       "      <td>f</td>\n",
       "      <td>f</td>\n",
       "      <td>1</td>\n",
       "      <td>1</td>\n",
       "      <td>0</td>\n",
       "      <td>0</td>\n",
       "      <td>1.13</td>\n",
       "    </tr>\n",
       "    <tr>\n",
       "      <th>2</th>\n",
       "      <td>3309</td>\n",
       "      <td>https://www.airbnb.com/rooms/3309</td>\n",
       "      <td>20200110222913</td>\n",
       "      <td>2020-01-11</td>\n",
       "      <td>BerlinSpot Schöneberg near KaDeWe</td>\n",
       "      <td>First of all: I prefer short-notice bookings. ...</td>\n",
       "      <td>Your room is really big and has 26 sqm, is ver...</td>\n",
       "      <td>First of all: I prefer short-notice bookings. ...</td>\n",
       "      <td>none</td>\n",
       "      <td>My flat is in the middle of West-Berlin, direc...</td>\n",
       "      <td>...</td>\n",
       "      <td>f</td>\n",
       "      <td>f</td>\n",
       "      <td>strict_14_with_grace_period</td>\n",
       "      <td>f</td>\n",
       "      <td>f</td>\n",
       "      <td>1</td>\n",
       "      <td>0</td>\n",
       "      <td>1</td>\n",
       "      <td>0</td>\n",
       "      <td>0.35</td>\n",
       "    </tr>\n",
       "    <tr>\n",
       "      <th>3</th>\n",
       "      <td>6883</td>\n",
       "      <td>https://www.airbnb.com/rooms/6883</td>\n",
       "      <td>20200110222913</td>\n",
       "      <td>2020-01-11</td>\n",
       "      <td>Stylish East Side Loft in Center with AC &amp; 2 b...</td>\n",
       "      <td>NaN</td>\n",
       "      <td>Stay in a stylish loft on the second floor and...</td>\n",
       "      <td>Stay in a stylish loft on the second floor and...</td>\n",
       "      <td>none</td>\n",
       "      <td>The emerging and upcoming East of the new hip ...</td>\n",
       "      <td>...</td>\n",
       "      <td>f</td>\n",
       "      <td>f</td>\n",
       "      <td>moderate</td>\n",
       "      <td>f</td>\n",
       "      <td>t</td>\n",
       "      <td>1</td>\n",
       "      <td>1</td>\n",
       "      <td>0</td>\n",
       "      <td>0</td>\n",
       "      <td>1.09</td>\n",
       "    </tr>\n",
       "    <tr>\n",
       "      <th>4</th>\n",
       "      <td>7071</td>\n",
       "      <td>https://www.airbnb.com/rooms/7071</td>\n",
       "      <td>20200110222913</td>\n",
       "      <td>2020-01-11</td>\n",
       "      <td>BrightRoom with sunny greenview!</td>\n",
       "      <td>Cozy and large room in the beautiful district ...</td>\n",
       "      <td>The BrightRoom is an approx. 20 sqm (215ft²), ...</td>\n",
       "      <td>Cozy and large room in the beautiful district ...</td>\n",
       "      <td>none</td>\n",
       "      <td>Great neighborhood with plenty of Cafés, Baker...</td>\n",
       "      <td>...</td>\n",
       "      <td>f</td>\n",
       "      <td>f</td>\n",
       "      <td>moderate</td>\n",
       "      <td>f</td>\n",
       "      <td>f</td>\n",
       "      <td>2</td>\n",
       "      <td>0</td>\n",
       "      <td>2</td>\n",
       "      <td>0</td>\n",
       "      <td>2.19</td>\n",
       "    </tr>\n",
       "  </tbody>\n",
       "</table>\n",
       "<p>5 rows × 106 columns</p>\n",
       "</div>"
      ],
      "text/plain": [
       "     id                        listing_url       scrape_id last_scraped  \\\n",
       "0  2015  https://www.airbnb.com/rooms/2015  20200110222913   2020-01-11   \n",
       "1  3176  https://www.airbnb.com/rooms/3176  20200110222913   2020-01-11   \n",
       "2  3309  https://www.airbnb.com/rooms/3309  20200110222913   2020-01-11   \n",
       "3  6883  https://www.airbnb.com/rooms/6883  20200110222913   2020-01-11   \n",
       "4  7071  https://www.airbnb.com/rooms/7071  20200110222913   2020-01-11   \n",
       "\n",
       "                                                name  \\\n",
       "0   Berlin-Mitte Value! Quiet courtyard/very central   \n",
       "1                    Fabulous Flat in great Location   \n",
       "2                  BerlinSpot Schöneberg near KaDeWe   \n",
       "3  Stylish East Side Loft in Center with AC & 2 b...   \n",
       "4                   BrightRoom with sunny greenview!   \n",
       "\n",
       "                                             summary  \\\n",
       "0  Great location!  30 of 75 sq meters. This wood...   \n",
       "1  This beautiful first floor apartment  is situa...   \n",
       "2  First of all: I prefer short-notice bookings. ...   \n",
       "3                                                NaN   \n",
       "4  Cozy and large room in the beautiful district ...   \n",
       "\n",
       "                                               space  \\\n",
       "0  A+++ location! This „Einliegerwohnung“ is an e...   \n",
       "1  1st floor (68m2) apartment on Kollwitzplatz/ P...   \n",
       "2  Your room is really big and has 26 sqm, is ver...   \n",
       "3  Stay in a stylish loft on the second floor and...   \n",
       "4  The BrightRoom is an approx. 20 sqm (215ft²), ...   \n",
       "\n",
       "                                         description experiences_offered  \\\n",
       "0  Great location!  30 of 75 sq meters. This wood...                none   \n",
       "1  This beautiful first floor apartment  is situa...                none   \n",
       "2  First of all: I prefer short-notice bookings. ...                none   \n",
       "3  Stay in a stylish loft on the second floor and...                none   \n",
       "4  Cozy and large room in the beautiful district ...                none   \n",
       "\n",
       "                               neighborhood_overview  ... instant_bookable  \\\n",
       "0  It is located in the former East Berlin area o...  ...                f   \n",
       "1  The neighbourhood is famous for its variety of...  ...                f   \n",
       "2  My flat is in the middle of West-Berlin, direc...  ...                f   \n",
       "3  The emerging and upcoming East of the new hip ...  ...                f   \n",
       "4  Great neighborhood with plenty of Cafés, Baker...  ...                f   \n",
       "\n",
       "  is_business_travel_ready          cancellation_policy  \\\n",
       "0                        f  strict_14_with_grace_period   \n",
       "1                        f  strict_14_with_grace_period   \n",
       "2                        f  strict_14_with_grace_period   \n",
       "3                        f                     moderate   \n",
       "4                        f                     moderate   \n",
       "\n",
       "  require_guest_profile_picture require_guest_phone_verification  \\\n",
       "0                             f                                f   \n",
       "1                             f                                f   \n",
       "2                             f                                f   \n",
       "3                             f                                t   \n",
       "4                             f                                f   \n",
       "\n",
       "   calculated_host_listings_count  \\\n",
       "0                               6   \n",
       "1                               1   \n",
       "2                               1   \n",
       "3                               1   \n",
       "4                               2   \n",
       "\n",
       "   calculated_host_listings_count_entire_homes  \\\n",
       "0                                            6   \n",
       "1                                            1   \n",
       "2                                            0   \n",
       "3                                            1   \n",
       "4                                            0   \n",
       "\n",
       "  calculated_host_listings_count_private_rooms  \\\n",
       "0                                            0   \n",
       "1                                            0   \n",
       "2                                            1   \n",
       "3                                            0   \n",
       "4                                            2   \n",
       "\n",
       "   calculated_host_listings_count_shared_rooms  reviews_per_month  \n",
       "0                                            0               2.84  \n",
       "1                                            0               1.13  \n",
       "2                                            0               0.35  \n",
       "3                                            0               1.09  \n",
       "4                                            0               2.19  \n",
       "\n",
       "[5 rows x 106 columns]"
      ]
     },
     "execution_count": 106,
     "metadata": {},
     "output_type": "execute_result"
    }
   ],
   "source": [
    "data.head()"
   ]
  },
  {
   "cell_type": "code",
   "execution_count": 107,
   "id": "1a24bb7d",
   "metadata": {},
   "outputs": [
    {
     "data": {
      "text/plain": [
       "(25349, 106)"
      ]
     },
     "execution_count": 107,
     "metadata": {},
     "output_type": "execute_result"
    }
   ],
   "source": [
    "data.shape"
   ]
  },
  {
   "cell_type": "markdown",
   "id": "60093f75",
   "metadata": {},
   "source": [
    "#### Which attributes have missing values?"
   ]
  },
  {
   "cell_type": "code",
   "execution_count": 108,
   "id": "03e0ac8b",
   "metadata": {},
   "outputs": [],
   "source": [
    "missing_vals = (data.isna().sum()/len(data)).sort_values(ascending=False)"
   ]
  },
  {
   "cell_type": "code",
   "execution_count": 109,
   "id": "a1b442af",
   "metadata": {},
   "outputs": [
    {
     "name": "stdout",
     "output_type": "stream",
     "text": [
      "jurisdiction_names                              1.000000\n",
      "host_acceptance_rate                            1.000000\n",
      "xl_picture_url                                  1.000000\n",
      "medium_url                                      1.000000\n",
      "thumbnail_url                                   1.000000\n",
      "square_feet                                     0.983195\n",
      "monthly_price                                   0.911081\n",
      "license                                         0.893487\n",
      "weekly_price                                    0.876563\n",
      "notes                                           0.684958\n",
      "access                                          0.550515\n",
      "host_about                                      0.505819\n",
      "interaction                                     0.499625\n",
      "house_rules                                     0.495049\n",
      "host_response_time                              0.453430\n",
      "host_response_rate                              0.453430\n",
      "neighborhood_overview                           0.439110\n",
      "security_deposit                                0.387195\n",
      "transit                                         0.386958\n",
      "space                                           0.351967\n",
      "cleaning_fee                                    0.292477\n",
      "host_neighbourhood                              0.215078\n",
      "review_scores_value                             0.197010\n",
      "review_scores_checkin                           0.196931\n",
      "review_scores_location                          0.196891\n",
      "review_scores_communication                     0.196260\n",
      "review_scores_accuracy                          0.196181\n",
      "review_scores_cleanliness                       0.196024\n",
      "review_scores_rating                            0.195077\n",
      "reviews_per_month                               0.175510\n",
      "last_review                                     0.175510\n",
      "first_review                                    0.175510\n",
      "summary                                         0.050929\n",
      "zipcode                                         0.021145\n",
      "description                                     0.020474\n",
      "host_location                                   0.005365\n",
      "state                                           0.005247\n",
      "beds                                            0.004655\n",
      "neighbourhood                                   0.003590\n",
      "market                                          0.002367\n",
      "name                                            0.002012\n",
      "host_identity_verified                          0.001972\n",
      "host_name                                       0.001972\n",
      "host_thumbnail_url                              0.001972\n",
      "host_since                                      0.001972\n",
      "host_has_profile_pic                            0.001972\n",
      "host_is_superhost                               0.001972\n",
      "host_total_listings_count                       0.001972\n",
      "host_listings_count                             0.001972\n",
      "host_picture_url                                0.001972\n",
      "bedrooms                                        0.001262\n",
      "bathrooms                                       0.000789\n",
      "city                                            0.000355\n",
      "cancellation_policy                             0.000000\n",
      "requires_license                                0.000000\n",
      "has_availability                                0.000000\n",
      "availability_30                                 0.000000\n",
      "availability_60                                 0.000000\n",
      "availability_90                                 0.000000\n",
      "availability_365                                0.000000\n",
      "calendar_last_scraped                           0.000000\n",
      "number_of_reviews                               0.000000\n",
      "calculated_host_listings_count_shared_rooms     0.000000\n",
      "calculated_host_listings_count_private_rooms    0.000000\n",
      "calculated_host_listings_count_entire_homes     0.000000\n",
      "calculated_host_listings_count                  0.000000\n",
      "number_of_reviews_ltm                           0.000000\n",
      "require_guest_phone_verification                0.000000\n",
      "require_guest_profile_picture                   0.000000\n",
      "instant_bookable                                0.000000\n",
      "is_business_travel_ready                        0.000000\n",
      "maximum_nights_avg_ntm                          0.000000\n",
      "calendar_updated                                0.000000\n",
      "id                                              0.000000\n",
      "minimum_nights_avg_ntm                          0.000000\n",
      "maximum_maximum_nights                          0.000000\n",
      "scrape_id                                       0.000000\n",
      "last_scraped                                    0.000000\n",
      "experiences_offered                             0.000000\n",
      "picture_url                                     0.000000\n",
      "host_id                                         0.000000\n",
      "host_url                                        0.000000\n",
      "host_verifications                              0.000000\n",
      "street                                          0.000000\n",
      "neighbourhood_cleansed                          0.000000\n",
      "neighbourhood_group_cleansed                    0.000000\n",
      "smart_location                                  0.000000\n",
      "country_code                                    0.000000\n",
      "country                                         0.000000\n",
      "latitude                                        0.000000\n",
      "longitude                                       0.000000\n",
      "is_location_exact                               0.000000\n",
      "property_type                                   0.000000\n",
      "room_type                                       0.000000\n",
      "listing_url                                     0.000000\n",
      "bed_type                                        0.000000\n",
      "amenities                                       0.000000\n",
      "price                                           0.000000\n",
      "guests_included                                 0.000000\n",
      "extra_people                                    0.000000\n",
      "minimum_nights                                  0.000000\n",
      "maximum_nights                                  0.000000\n",
      "minimum_minimum_nights                          0.000000\n",
      "maximum_minimum_nights                          0.000000\n",
      "minimum_maximum_nights                          0.000000\n",
      "accommodates                                    0.000000\n",
      "dtype: float64\n"
     ]
    }
   ],
   "source": [
    "with pd.option_context('display.max_rows', None, 'display.max_columns', None):\n",
    "    print(missing_vals)"
   ]
  },
  {
   "cell_type": "markdown",
   "id": "3770f5bf",
   "metadata": {},
   "source": [
    "#### What are the types of the attributes?"
   ]
  },
  {
   "cell_type": "code",
   "execution_count": 110,
   "id": "b5ddd82b",
   "metadata": {},
   "outputs": [
    {
     "name": "stdout",
     "output_type": "stream",
     "text": [
      "id                                                int64\n",
      "listing_url                                      object\n",
      "scrape_id                                         int64\n",
      "last_scraped                                     object\n",
      "name                                             object\n",
      "summary                                          object\n",
      "space                                            object\n",
      "description                                      object\n",
      "experiences_offered                              object\n",
      "neighborhood_overview                            object\n",
      "notes                                            object\n",
      "transit                                          object\n",
      "access                                           object\n",
      "interaction                                      object\n",
      "house_rules                                      object\n",
      "thumbnail_url                                   float64\n",
      "medium_url                                      float64\n",
      "picture_url                                      object\n",
      "xl_picture_url                                  float64\n",
      "host_id                                           int64\n",
      "host_url                                         object\n",
      "host_name                                        object\n",
      "host_since                                       object\n",
      "host_location                                    object\n",
      "host_about                                       object\n",
      "host_response_time                               object\n",
      "host_response_rate                               object\n",
      "host_acceptance_rate                            float64\n",
      "host_is_superhost                                object\n",
      "host_thumbnail_url                               object\n",
      "host_picture_url                                 object\n",
      "host_neighbourhood                               object\n",
      "host_listings_count                             float64\n",
      "host_total_listings_count                       float64\n",
      "host_verifications                               object\n",
      "host_has_profile_pic                             object\n",
      "host_identity_verified                           object\n",
      "street                                           object\n",
      "neighbourhood                                    object\n",
      "neighbourhood_cleansed                           object\n",
      "neighbourhood_group_cleansed                     object\n",
      "city                                             object\n",
      "state                                            object\n",
      "zipcode                                          object\n",
      "market                                           object\n",
      "smart_location                                   object\n",
      "country_code                                     object\n",
      "country                                          object\n",
      "latitude                                        float64\n",
      "longitude                                       float64\n",
      "is_location_exact                                object\n",
      "property_type                                    object\n",
      "room_type                                        object\n",
      "accommodates                                      int64\n",
      "bathrooms                                       float64\n",
      "bedrooms                                        float64\n",
      "beds                                            float64\n",
      "bed_type                                         object\n",
      "amenities                                        object\n",
      "square_feet                                     float64\n",
      "price                                            object\n",
      "weekly_price                                     object\n",
      "monthly_price                                    object\n",
      "security_deposit                                 object\n",
      "cleaning_fee                                     object\n",
      "guests_included                                   int64\n",
      "extra_people                                     object\n",
      "minimum_nights                                    int64\n",
      "maximum_nights                                    int64\n",
      "minimum_minimum_nights                            int64\n",
      "maximum_minimum_nights                            int64\n",
      "minimum_maximum_nights                            int64\n",
      "maximum_maximum_nights                            int64\n",
      "minimum_nights_avg_ntm                          float64\n",
      "maximum_nights_avg_ntm                          float64\n",
      "calendar_updated                                 object\n",
      "has_availability                                 object\n",
      "availability_30                                   int64\n",
      "availability_60                                   int64\n",
      "availability_90                                   int64\n",
      "availability_365                                  int64\n",
      "calendar_last_scraped                            object\n",
      "number_of_reviews                                 int64\n",
      "number_of_reviews_ltm                             int64\n",
      "first_review                                     object\n",
      "last_review                                      object\n",
      "review_scores_rating                            float64\n",
      "review_scores_accuracy                          float64\n",
      "review_scores_cleanliness                       float64\n",
      "review_scores_checkin                           float64\n",
      "review_scores_communication                     float64\n",
      "review_scores_location                          float64\n",
      "review_scores_value                             float64\n",
      "requires_license                                 object\n",
      "license                                          object\n",
      "jurisdiction_names                              float64\n",
      "instant_bookable                                 object\n",
      "is_business_travel_ready                         object\n",
      "cancellation_policy                              object\n",
      "require_guest_profile_picture                    object\n",
      "require_guest_phone_verification                 object\n",
      "calculated_host_listings_count                    int64\n",
      "calculated_host_listings_count_entire_homes       int64\n",
      "calculated_host_listings_count_private_rooms      int64\n",
      "calculated_host_listings_count_shared_rooms       int64\n",
      "reviews_per_month                               float64\n",
      "dtype: object\n"
     ]
    }
   ],
   "source": [
    "with pd.option_context('display.max_rows', None, 'display.max_columns', None):\n",
    "    print(data.dtypes)"
   ]
  },
  {
   "cell_type": "markdown",
   "id": "2dda5a8b",
   "metadata": {},
   "source": [
    "#### some examples..."
   ]
  },
  {
   "cell_type": "markdown",
   "id": "72f17684",
   "metadata": {},
   "source": [
    "#### neighbourhood"
   ]
  },
  {
   "cell_type": "code",
   "execution_count": 111,
   "id": "079db17d",
   "metadata": {},
   "outputs": [
    {
     "data": {
      "text/plain": [
       "array(['Brunnenstr. Süd', 'Prenzlauer Berg Südwest', 'Schöneberg-Nord',\n",
       "       'Frankfurter Allee Süd FK', 'Helmholtzplatz',\n",
       "       'Prenzlauer Berg Nordwest', 'nördliche Luisenstadt',\n",
       "       'Reuterstraße', 'südliche Luisenstadt', 'Tempelhofer Vorstadt',\n",
       "       'Prenzlauer Berg Süd', 'Moabit Ost', 'Otto-Suhr-Allee',\n",
       "       'Schillerpromenade', 'Alt  Treptow', 'Alexanderplatz',\n",
       "       'Neue Kantstraße', 'Ostpreußendamm',\n",
       "       'Schmöckwitz/Karolinenhof/Rauchfangswerder',\n",
       "       'Neuköllner Mitte/Zentrum', 'Frankfurter Allee Nord',\n",
       "       'Prenzlauer Berg Nord', 'Kantstraße', 'Schmargendorf',\n",
       "       'Regierungsviertel', 'Kurfürstendamm', 'Schöneberg-Süd',\n",
       "       'Blankenfelde/Niederschönhausen', 'Halensee',\n",
       "       'Südliche Friedrichstadt', 'Moabit West', 'Wiesbadener Straße',\n",
       "       'West 3', 'Rixdorf', 'Neu Lichtenberg',\n",
       "       'Blankenburg/Heinersdorf/Märchenland', 'Friedenau',\n",
       "       'Brunnenstr. Nord', 'Ost 2', 'Volkspark Wilmersdorf',\n",
       "       'Pankow Zentrum', 'Osloer Straße', 'Drakestr.', 'West 1',\n",
       "       'Prenzlauer Berg Ost', 'Buckow Nord', 'Pankow Süd', 'Karlshorst',\n",
       "       'Karl-Marx-Allee-Nord', 'Alt-Lichtenberg', 'Zehlendorf  Nord',\n",
       "       'Düsseldorfer Straße', 'Tiergarten Süd', 'Rudow',\n",
       "       'Mierendorffplatz', 'Wedding Zentrum', 'Karl-Marx-Allee-Süd',\n",
       "       'Altglienicke', 'Lichtenrade', 'Westend', 'Mahlsdorf', 'Ost 1',\n",
       "       'West 5', 'Biesdorf', 'Zehlendorf  Südwest', 'Johannisthal',\n",
       "       'West 2', 'Barstraße', 'Marienfelde', 'Heerstraße Nord',\n",
       "       'Schloß Charlottenburg', 'Albrechtstr.', 'Buckow',\n",
       "       'Baumschulenweg', 'Schloßstr.', 'Karow', 'Tempelhof',\n",
       "       'Rahnsdorf/Hessenwinkel', 'Gatow / Kladow', 'Parkviertel',\n",
       "       'Weißensee', 'Schönholz/Wilhelmsruh/Rosenthal',\n",
       "       'Alt-Hohenschönhausen Nord', 'Britz', 'Nord 2', 'Hellersdorf-Nord',\n",
       "       'Marzahn-Mitte', 'MV 1', 'Heerstrasse', 'Plänterwald',\n",
       "       'Teltower Damm', 'Nord 1', 'Adlershof', 'Friedrichshagen',\n",
       "       'Köllnische Heide', 'Rummelsburger Bucht', 'Friedrichsfelde Nord',\n",
       "       'Buchholz', 'Grunewald', 'West 4', 'Falkenhagener Feld',\n",
       "       'Köpenick-Nord', 'Bohnsdorf', 'Frankfurter Allee Süd', 'MV 2',\n",
       "       'Marzahn-Süd', 'Fennpfuhl', 'Kaulsdorf', 'Mariendorf',\n",
       "       'Siemensstadt', 'Charlottenburg Nord', 'Gropiusstadt',\n",
       "       'Oberschöneweide', 'Buch', 'Niederschöneweide', 'Weißensee Ost',\n",
       "       'Neu-Hohenschönhausen Nord', 'Hellersdorf-Süd', 'Grünau',\n",
       "       'Hakenfelde', 'Spandau Mitte', 'Alt-Hohenschönhausen Süd',\n",
       "       'Haselhorst', 'Altstadt-Kietz', 'Friedrichsfelde Süd',\n",
       "       'Wilhelmstadt', 'Lankwitz', 'Dammvorstadt', 'Brunsbütteler Damm',\n",
       "       'Neu-Hohenschönhausen Süd', 'Malchow, Wartenberg und Falkenberg',\n",
       "       'Köpenick-Süd', 'Müggelheim', 'Hellersdorf-Ost',\n",
       "       'Kölln. Vorstadt/Spindlersf.', 'Allende-Viertel',\n",
       "       'Forst Grunewald', 'Marzahn-Nord'], dtype=object)"
      ]
     },
     "execution_count": 111,
     "metadata": {},
     "output_type": "execute_result"
    }
   ],
   "source": [
    "data.neighbourhood_cleansed.unique()"
   ]
  },
  {
   "cell_type": "code",
   "execution_count": 112,
   "id": "5a44a319",
   "metadata": {},
   "outputs": [
    {
     "data": {
      "text/plain": [
       "<AxesSubplot:>"
      ]
     },
     "execution_count": 112,
     "metadata": {},
     "output_type": "execute_result"
    },
    {
     "data": {
      "image/png": "[encoded data removed]",
      "text/plain": [
       "<Figure size 360x360 with 1 Axes>"
      ]
     },
     "metadata": {},
     "output_type": "display_data"
    }
   ],
   "source": [
    "data.neighbourhood_cleansed.hist(figsize=(5, 5))"
   ]
  },
  {
   "cell_type": "markdown",
   "id": "613ce62d",
   "metadata": {},
   "source": [
    "#### room_type"
   ]
  },
  {
   "cell_type": "code",
   "execution_count": 113,
   "id": "3011d491",
   "metadata": {
    "scrolled": true
   },
   "outputs": [
    {
     "data": {
      "text/plain": [
       "<AxesSubplot:>"
      ]
     },
     "execution_count": 113,
     "metadata": {},
     "output_type": "execute_result"
    },
    {
     "data": {
      "image/png": "[encoded data removed]",
      "text/plain": [
       "<Figure size 360x360 with 1 Axes>"
      ]
     },
     "metadata": {},
     "output_type": "display_data"
    }
   ],
   "source": [
    "data.room_type.hist(figsize=(5, 5))"
   ]
  },
  {
   "cell_type": "code",
   "execution_count": 114,
   "id": "550cf1d1",
   "metadata": {},
   "outputs": [
    {
     "data": {
      "text/plain": [
       "0"
      ]
     },
     "execution_count": 114,
     "metadata": {},
     "output_type": "execute_result"
    }
   ],
   "source": [
    "data.room_type.isna().sum()"
   ]
  },
  {
   "cell_type": "markdown",
   "id": "c1dd4bd5",
   "metadata": {},
   "source": [
    "#### property_type"
   ]
  },
  {
   "cell_type": "code",
   "execution_count": 115,
   "id": "0acddf01",
   "metadata": {
    "scrolled": true
   },
   "outputs": [
    {
     "data": {
      "text/plain": [
       "<AxesSubplot:>"
      ]
     },
     "execution_count": 115,
     "metadata": {},
     "output_type": "execute_result"
    },
    {
     "data": {
      "image/png": "[encoded data removed]",
      "text/plain": [
       "<Figure size 360x360 with 1 Axes>"
      ]
     },
     "metadata": {},
     "output_type": "display_data"
    }
   ],
   "source": [
    "data.property_type.hist(figsize=(5, 5))"
   ]
  },
  {
   "cell_type": "code",
   "execution_count": 116,
   "id": "bb74bf6f",
   "metadata": {},
   "outputs": [
    {
     "data": {
      "text/plain": [
       "0"
      ]
     },
     "execution_count": 116,
     "metadata": {},
     "output_type": "execute_result"
    }
   ],
   "source": [
    "data.property_type.isna().sum()"
   ]
  },
  {
   "cell_type": "markdown",
   "id": "d1353cc4",
   "metadata": {},
   "source": [
    "#### bedrooms"
   ]
  },
  {
   "cell_type": "code",
   "execution_count": 117,
   "id": "6a59de9b",
   "metadata": {},
   "outputs": [
    {
     "data": {
      "text/plain": [
       "<AxesSubplot:>"
      ]
     },
     "execution_count": 117,
     "metadata": {},
     "output_type": "execute_result"
    },
    {
     "data": {
      "image/png": "[encoded data removed]",
      "text/plain": [
       "<Figure size 360x360 with 1 Axes>"
      ]
     },
     "metadata": {},
     "output_type": "display_data"
    }
   ],
   "source": [
    "data.bedrooms.hist(figsize=(5, 5))"
   ]
  },
  {
   "cell_type": "code",
   "execution_count": 118,
   "id": "92438f3f",
   "metadata": {},
   "outputs": [
    {
     "data": {
      "text/plain": [
       "32"
      ]
     },
     "execution_count": 118,
     "metadata": {},
     "output_type": "execute_result"
    }
   ],
   "source": [
    "data.bedrooms.isna().sum()"
   ]
  },
  {
   "cell_type": "markdown",
   "id": "3d5239ec",
   "metadata": {},
   "source": [
    "#### bathrooms"
   ]
  },
  {
   "cell_type": "code",
   "execution_count": 119,
   "id": "4f8fb7e0",
   "metadata": {},
   "outputs": [
    {
     "data": {
      "text/plain": [
       "<AxesSubplot:>"
      ]
     },
     "execution_count": 119,
     "metadata": {},
     "output_type": "execute_result"
    },
    {
     "data": {
      "image/png": "[encoded data removed]",
      "text/plain": [
       "<Figure size 360x360 with 1 Axes>"
      ]
     },
     "metadata": {},
     "output_type": "display_data"
    }
   ],
   "source": [
    "data.bathrooms.hist(figsize=(5, 5))"
   ]
  },
  {
   "cell_type": "code",
   "execution_count": 120,
   "id": "b81c401a",
   "metadata": {},
   "outputs": [
    {
     "data": {
      "text/plain": [
       "20"
      ]
     },
     "execution_count": 120,
     "metadata": {},
     "output_type": "execute_result"
    }
   ],
   "source": [
    "data.bathrooms.isna().sum()"
   ]
  },
  {
   "cell_type": "markdown",
   "id": "c049b9ce",
   "metadata": {},
   "source": [
    "#### guests_included"
   ]
  },
  {
   "cell_type": "code",
   "execution_count": 121,
   "id": "acc62ccf",
   "metadata": {
    "scrolled": true
   },
   "outputs": [
    {
     "data": {
      "text/plain": [
       "<AxesSubplot:>"
      ]
     },
     "execution_count": 121,
     "metadata": {},
     "output_type": "execute_result"
    },
    {
     "data": {
      "image/png": "[encoded data removed]",
      "text/plain": [
       "<Figure size 360x360 with 1 Axes>"
      ]
     },
     "metadata": {},
     "output_type": "display_data"
    }
   ],
   "source": [
    "data.guests_included.hist(figsize=(5, 5))"
   ]
  },
  {
   "cell_type": "code",
   "execution_count": 122,
   "id": "3e074308",
   "metadata": {},
   "outputs": [
    {
     "data": {
      "text/plain": [
       "0"
      ]
     },
     "execution_count": 122,
     "metadata": {},
     "output_type": "execute_result"
    }
   ],
   "source": [
    "data.guests_included.isna().sum()"
   ]
  },
  {
   "cell_type": "markdown",
   "id": "2c0c0d71",
   "metadata": {},
   "source": [
    "#### price"
   ]
  },
  {
   "cell_type": "code",
   "execution_count": 123,
   "id": "7bc5913f",
   "metadata": {
    "scrolled": true
   },
   "outputs": [
    {
     "data": {
      "text/plain": [
       "0         $60.00\n",
       "1         $90.00\n",
       "2         $28.00\n",
       "3        $125.00\n",
       "4         $33.00\n",
       "          ...   \n",
       "25344    $260.00\n",
       "25345     $18.00\n",
       "25346     $26.00\n",
       "25347     $17.00\n",
       "25348     $26.00\n",
       "Name: price, Length: 25349, dtype: object"
      ]
     },
     "execution_count": 123,
     "metadata": {},
     "output_type": "execute_result"
    }
   ],
   "source": [
    "data.price"
   ]
  },
  {
   "cell_type": "markdown",
   "id": "320f11f0",
   "metadata": {},
   "source": [
    "#### let's clean this right away"
   ]
  },
  {
   "cell_type": "code",
   "execution_count": 124,
   "id": "35d7b190",
   "metadata": {
    "scrolled": true
   },
   "outputs": [],
   "source": [
    "data.price = data.price.map(lambda x: float(x[1:].replace(',', '')))"
   ]
  },
  {
   "cell_type": "code",
   "execution_count": 125,
   "id": "79771245",
   "metadata": {},
   "outputs": [
    {
     "data": {
      "text/plain": [
       "count    25349.000000\n",
       "mean        72.995818\n",
       "std        217.433163\n",
       "min          0.000000\n",
       "25%         34.000000\n",
       "50%         50.000000\n",
       "75%         79.000000\n",
       "max       9000.000000\n",
       "Name: price, dtype: float64"
      ]
     },
     "execution_count": 125,
     "metadata": {},
     "output_type": "execute_result"
    }
   ],
   "source": [
    "data.price.describe()"
   ]
  },
  {
   "cell_type": "code",
   "execution_count": 126,
   "id": "fad56477",
   "metadata": {
    "scrolled": false
   },
   "outputs": [
    {
     "data": {
      "text/plain": [
       "<AxesSubplot:xlabel='price'>"
      ]
     },
     "execution_count": 126,
     "metadata": {},
     "output_type": "execute_result"
    },
    {
     "data": {
      "image/png": "[encoded data removed]",
      "text/plain": [
       "<Figure size 576x396 with 1 Axes>"
      ]
     },
     "metadata": {},
     "output_type": "display_data"
    }
   ],
   "source": [
    "sns.boxplot(x=data['price'])"
   ]
  },
  {
   "cell_type": "markdown",
   "id": "f541432f",
   "metadata": {},
   "source": [
    "### Feature selection / filtering"
   ]
  },
  {
   "cell_type": "markdown",
   "id": "ff4e2aca",
   "metadata": {},
   "source": [
    "#### remove all attributes with more than 10% missing values"
   ]
  },
  {
   "cell_type": "code",
   "execution_count": 127,
   "id": "9a43a236",
   "metadata": {},
   "outputs": [],
   "source": [
    "data = data.drop(columns=missing_vals[missing_vals>0.1].index)"
   ]
  },
  {
   "cell_type": "code",
   "execution_count": 128,
   "id": "7bc1bff9",
   "metadata": {},
   "outputs": [
    {
     "data": {
      "text/plain": [
       "(25349, 74)"
      ]
     },
     "execution_count": 128,
     "metadata": {},
     "output_type": "execute_result"
    }
   ],
   "source": [
    "data.shape"
   ]
  },
  {
   "cell_type": "markdown",
   "id": "2f06b04f",
   "metadata": {},
   "source": [
    "#### What's left?"
   ]
  },
  {
   "cell_type": "code",
   "execution_count": 129,
   "id": "be966146",
   "metadata": {
    "scrolled": false
   },
   "outputs": [
    {
     "data": {
      "text/plain": [
       "Index(['id', 'listing_url', 'scrape_id', 'last_scraped', 'name', 'summary',\n",
       "       'description', 'experiences_offered', 'picture_url', 'host_id',\n",
       "       'host_url', 'host_name', 'host_since', 'host_location',\n",
       "       'host_is_superhost', 'host_thumbnail_url', 'host_picture_url',\n",
       "       'host_listings_count', 'host_total_listings_count',\n",
       "       'host_verifications', 'host_has_profile_pic', 'host_identity_verified',\n",
       "       'street', 'neighbourhood', 'neighbourhood_cleansed',\n",
       "       'neighbourhood_group_cleansed', 'city', 'state', 'zipcode', 'market',\n",
       "       'smart_location', 'country_code', 'country', 'latitude', 'longitude',\n",
       "       'is_location_exact', 'property_type', 'room_type', 'accommodates',\n",
       "       'bathrooms', 'bedrooms', 'beds', 'bed_type', 'amenities', 'price',\n",
       "       'guests_included', 'extra_people', 'minimum_nights', 'maximum_nights',\n",
       "       'minimum_minimum_nights', 'maximum_minimum_nights',\n",
       "       'minimum_maximum_nights', 'maximum_maximum_nights',\n",
       "       'minimum_nights_avg_ntm', 'maximum_nights_avg_ntm', 'calendar_updated',\n",
       "       'has_availability', 'availability_30', 'availability_60',\n",
       "       'availability_90', 'availability_365', 'calendar_last_scraped',\n",
       "       'number_of_reviews', 'number_of_reviews_ltm', 'requires_license',\n",
       "       'instant_bookable', 'is_business_travel_ready', 'cancellation_policy',\n",
       "       'require_guest_profile_picture', 'require_guest_phone_verification',\n",
       "       'calculated_host_listings_count',\n",
       "       'calculated_host_listings_count_entire_homes',\n",
       "       'calculated_host_listings_count_private_rooms',\n",
       "       'calculated_host_listings_count_shared_rooms'],\n",
       "      dtype='object')"
      ]
     },
     "execution_count": 129,
     "metadata": {},
     "output_type": "execute_result"
    }
   ],
   "source": [
    "data.columns"
   ]
  },
  {
   "cell_type": "markdown",
   "id": "cec26988",
   "metadata": {},
   "source": [
    "some promising columns are selected"
   ]
  },
  {
   "cell_type": "code",
   "execution_count": 130,
   "id": "5ac13db3",
   "metadata": {},
   "outputs": [],
   "source": [
    "sel_columns = [\n",
    "    'price', # target\n",
    "    'neighbourhood_cleansed',\n",
    "    'property_type',\n",
    "    'room_type',\n",
    "    'bathrooms',\n",
    "    'bedrooms',\n",
    "    'accommodates',\n",
    "    'guests_included',\n",
    "    'amenities'\n",
    "]"
   ]
  },
  {
   "cell_type": "code",
   "execution_count": 131,
   "id": "7ed6c918",
   "metadata": {},
   "outputs": [
    {
     "data": {
      "text/plain": [
       "array(['Brunnenstr. Süd', 'Prenzlauer Berg Südwest', 'Schöneberg-Nord',\n",
       "       'Frankfurter Allee Süd FK', 'Helmholtzplatz',\n",
       "       'Prenzlauer Berg Nordwest', 'nördliche Luisenstadt',\n",
       "       'Reuterstraße', 'südliche Luisenstadt', 'Tempelhofer Vorstadt',\n",
       "       'Prenzlauer Berg Süd', 'Moabit Ost', 'Otto-Suhr-Allee',\n",
       "       'Schillerpromenade', 'Alt  Treptow', 'Alexanderplatz',\n",
       "       'Neue Kantstraße', 'Ostpreußendamm',\n",
       "       'Schmöckwitz/Karolinenhof/Rauchfangswerder',\n",
       "       'Neuköllner Mitte/Zentrum', 'Frankfurter Allee Nord',\n",
       "       'Prenzlauer Berg Nord', 'Kantstraße', 'Schmargendorf',\n",
       "       'Regierungsviertel', 'Kurfürstendamm', 'Schöneberg-Süd',\n",
       "       'Blankenfelde/Niederschönhausen', 'Halensee',\n",
       "       'Südliche Friedrichstadt', 'Moabit West', 'Wiesbadener Straße',\n",
       "       'West 3', 'Rixdorf', 'Neu Lichtenberg',\n",
       "       'Blankenburg/Heinersdorf/Märchenland', 'Friedenau',\n",
       "       'Brunnenstr. Nord', 'Ost 2', 'Volkspark Wilmersdorf',\n",
       "       'Pankow Zentrum', 'Osloer Straße', 'Drakestr.', 'West 1',\n",
       "       'Prenzlauer Berg Ost', 'Buckow Nord', 'Pankow Süd', 'Karlshorst',\n",
       "       'Karl-Marx-Allee-Nord', 'Alt-Lichtenberg', 'Zehlendorf  Nord',\n",
       "       'Düsseldorfer Straße', 'Tiergarten Süd', 'Rudow',\n",
       "       'Mierendorffplatz', 'Wedding Zentrum', 'Karl-Marx-Allee-Süd',\n",
       "       'Altglienicke', 'Lichtenrade', 'Westend', 'Mahlsdorf', 'Ost 1',\n",
       "       'West 5', 'Biesdorf', 'Zehlendorf  Südwest', 'Johannisthal',\n",
       "       'West 2', 'Barstraße', 'Marienfelde', 'Heerstraße Nord',\n",
       "       'Schloß Charlottenburg', 'Albrechtstr.', 'Buckow',\n",
       "       'Baumschulenweg', 'Schloßstr.', 'Karow', 'Tempelhof',\n",
       "       'Rahnsdorf/Hessenwinkel', 'Gatow / Kladow', 'Parkviertel',\n",
       "       'Weißensee', 'Schönholz/Wilhelmsruh/Rosenthal',\n",
       "       'Alt-Hohenschönhausen Nord', 'Britz', 'Nord 2', 'Hellersdorf-Nord',\n",
       "       'Marzahn-Mitte', 'MV 1', 'Heerstrasse', 'Plänterwald',\n",
       "       'Teltower Damm', 'Nord 1', 'Adlershof', 'Friedrichshagen',\n",
       "       'Köllnische Heide', 'Rummelsburger Bucht', 'Friedrichsfelde Nord',\n",
       "       'Buchholz', 'Grunewald', 'West 4', 'Falkenhagener Feld',\n",
       "       'Köpenick-Nord', 'Bohnsdorf', 'Frankfurter Allee Süd', 'MV 2',\n",
       "       'Marzahn-Süd', 'Fennpfuhl', 'Kaulsdorf', 'Mariendorf',\n",
       "       'Siemensstadt', 'Charlottenburg Nord', 'Gropiusstadt',\n",
       "       'Oberschöneweide', 'Buch', 'Niederschöneweide', 'Weißensee Ost',\n",
       "       'Neu-Hohenschönhausen Nord', 'Hellersdorf-Süd', 'Grünau',\n",
       "       'Hakenfelde', 'Spandau Mitte', 'Alt-Hohenschönhausen Süd',\n",
       "       'Haselhorst', 'Altstadt-Kietz', 'Friedrichsfelde Süd',\n",
       "       'Wilhelmstadt', 'Lankwitz', 'Dammvorstadt', 'Brunsbütteler Damm',\n",
       "       'Neu-Hohenschönhausen Süd', 'Malchow, Wartenberg und Falkenberg',\n",
       "       'Köpenick-Süd', 'Müggelheim', 'Hellersdorf-Ost',\n",
       "       'Kölln. Vorstadt/Spindlersf.', 'Allende-Viertel',\n",
       "       'Forst Grunewald', 'Marzahn-Nord'], dtype=object)"
      ]
     },
     "execution_count": 131,
     "metadata": {},
     "output_type": "execute_result"
    }
   ],
   "source": [
    "data.neighbourhood_cleansed.unique()"
   ]
  },
  {
   "cell_type": "code",
   "execution_count": 132,
   "id": "37d79dc8",
   "metadata": {},
   "outputs": [
    {
     "data": {
      "text/html": [
       "<div>\n",
       "<style scoped>\n",
       "    .dataframe tbody tr th:only-of-type {\n",
       "        vertical-align: middle;\n",
       "    }\n",
       "\n",
       "    .dataframe tbody tr th {\n",
       "        vertical-align: top;\n",
       "    }\n",
       "\n",
       "    .dataframe thead th {\n",
       "        text-align: right;\n",
       "    }\n",
       "</style>\n",
       "<table border=\"1\" class=\"dataframe\">\n",
       "  <thead>\n",
       "    <tr style=\"text-align: right;\">\n",
       "      <th></th>\n",
       "      <th>price</th>\n",
       "      <th>bathrooms</th>\n",
       "      <th>bedrooms</th>\n",
       "      <th>accommodates</th>\n",
       "      <th>guests_included</th>\n",
       "    </tr>\n",
       "  </thead>\n",
       "  <tbody>\n",
       "    <tr>\n",
       "      <th>price</th>\n",
       "      <td>1.000000</td>\n",
       "      <td>0.059776</td>\n",
       "      <td>0.105354</td>\n",
       "      <td>0.129288</td>\n",
       "      <td>0.114540</td>\n",
       "    </tr>\n",
       "    <tr>\n",
       "      <th>bathrooms</th>\n",
       "      <td>0.059776</td>\n",
       "      <td>1.000000</td>\n",
       "      <td>0.327807</td>\n",
       "      <td>0.272609</td>\n",
       "      <td>0.193890</td>\n",
       "    </tr>\n",
       "    <tr>\n",
       "      <th>bedrooms</th>\n",
       "      <td>0.105354</td>\n",
       "      <td>0.327807</td>\n",
       "      <td>1.000000</td>\n",
       "      <td>0.631698</td>\n",
       "      <td>0.398721</td>\n",
       "    </tr>\n",
       "    <tr>\n",
       "      <th>accommodates</th>\n",
       "      <td>0.129288</td>\n",
       "      <td>0.272609</td>\n",
       "      <td>0.631698</td>\n",
       "      <td>1.000000</td>\n",
       "      <td>0.544631</td>\n",
       "    </tr>\n",
       "    <tr>\n",
       "      <th>guests_included</th>\n",
       "      <td>0.114540</td>\n",
       "      <td>0.193890</td>\n",
       "      <td>0.398721</td>\n",
       "      <td>0.544631</td>\n",
       "      <td>1.000000</td>\n",
       "    </tr>\n",
       "  </tbody>\n",
       "</table>\n",
       "</div>"
      ],
      "text/plain": [
       "                    price  bathrooms  bedrooms  accommodates  guests_included\n",
       "price            1.000000   0.059776  0.105354      0.129288         0.114540\n",
       "bathrooms        0.059776   1.000000  0.327807      0.272609         0.193890\n",
       "bedrooms         0.105354   0.327807  1.000000      0.631698         0.398721\n",
       "accommodates     0.129288   0.272609  0.631698      1.000000         0.544631\n",
       "guests_included  0.114540   0.193890  0.398721      0.544631         1.000000"
      ]
     },
     "execution_count": 132,
     "metadata": {},
     "output_type": "execute_result"
    }
   ],
   "source": [
    "data[sel_columns].corr()"
   ]
  },
  {
   "cell_type": "markdown",
   "id": "1a656686",
   "metadata": {},
   "source": [
    "#### now let's have a closer look at amenities"
   ]
  },
  {
   "cell_type": "code",
   "execution_count": 133,
   "id": "815cce0e",
   "metadata": {},
   "outputs": [
    {
     "data": {
      "text/plain": [
       "'{TV,\"Cable TV\",Wifi,Kitchen,Gym,\"Free street parking\",Heating,\"Family/kid friendly\",\"Smoke detector\",Essentials,Shampoo,\"Lock on bedroom door\",Hangers,\"Hair dryer\",Iron,\"Laptop friendly workspace\",\"Self check-in\",Lockbox,\"Private living room\",Bathtub,\"Hot water\",\"Bed linens\",\"Extra pillows and blankets\",Microwave,\"Coffee maker\",Refrigerator,Dishwasher,\"Dishes and silverware\",\"Cooking basics\",Stove,\"Luggage dropoff allowed\",\"Long term stays allowed\"}'"
      ]
     },
     "execution_count": 133,
     "metadata": {},
     "output_type": "execute_result"
    }
   ],
   "source": [
    "data.amenities.iloc[0]"
   ]
  },
  {
   "cell_type": "markdown",
   "id": "7a148c1d",
   "metadata": {},
   "source": [
    "... so it's some sort of a list"
   ]
  },
  {
   "cell_type": "code",
   "execution_count": 134,
   "id": "ffa4d8e1",
   "metadata": {},
   "outputs": [
    {
     "data": {
      "text/plain": [
       "['TV',\n",
       " '\"Cable TV\"',\n",
       " 'Wifi',\n",
       " 'Kitchen',\n",
       " 'Gym',\n",
       " '\"Free street parking\"',\n",
       " 'Heating',\n",
       " '\"Family/kid friendly\"',\n",
       " '\"Smoke detector\"',\n",
       " 'Essentials',\n",
       " 'Shampoo',\n",
       " '\"Lock on bedroom door\"',\n",
       " 'Hangers',\n",
       " '\"Hair dryer\"',\n",
       " 'Iron',\n",
       " '\"Laptop friendly workspace\"',\n",
       " '\"Self check-in\"',\n",
       " 'Lockbox',\n",
       " '\"Private living room\"',\n",
       " 'Bathtub',\n",
       " '\"Hot water\"',\n",
       " '\"Bed linens\"',\n",
       " '\"Extra pillows and blankets\"',\n",
       " 'Microwave',\n",
       " '\"Coffee maker\"',\n",
       " 'Refrigerator',\n",
       " 'Dishwasher',\n",
       " '\"Dishes and silverware\"',\n",
       " '\"Cooking basics\"',\n",
       " 'Stove',\n",
       " '\"Luggage dropoff allowed\"',\n",
       " '\"Long term stays allowed\"']"
      ]
     },
     "execution_count": 134,
     "metadata": {},
     "output_type": "execute_result"
    }
   ],
   "source": [
    "[d for d in data.amenities.iloc[0][1:-1].split(',')]"
   ]
  },
  {
   "cell_type": "markdown",
   "id": "db3a9433",
   "metadata": {},
   "source": [
    "so then let's try to find out what the most used amenities are"
   ]
  },
  {
   "cell_type": "code",
   "execution_count": 135,
   "id": "32284869",
   "metadata": {},
   "outputs": [],
   "source": [
    "amenities = [a for d in data.amenities.tolist() for a in d[1:-1].split(',')]"
   ]
  },
  {
   "cell_type": "code",
   "execution_count": 136,
   "id": "daa1ca3f",
   "metadata": {},
   "outputs": [],
   "source": [
    "amenities_counter = Counter(amenities)"
   ]
  },
  {
   "cell_type": "code",
   "execution_count": 137,
   "id": "e3dc7934",
   "metadata": {},
   "outputs": [
    {
     "data": {
      "text/plain": [
       "178"
      ]
     },
     "execution_count": 137,
     "metadata": {},
     "output_type": "execute_result"
    }
   ],
   "source": [
    "len(amenities_counter)"
   ]
  },
  {
   "cell_type": "code",
   "execution_count": 138,
   "id": "aa1d7d94",
   "metadata": {},
   "outputs": [
    {
     "data": {
      "text/plain": [
       "[('Wifi', 24241),\n",
       " ('Heating', 23990),\n",
       " ('Kitchen', 23756),\n",
       " ('Essentials', 23197),\n",
       " ('Washer', 20587),\n",
       " ('\"Hair dryer\"', 17568),\n",
       " ('\"Laptop friendly workspace\"', 16784),\n",
       " ('Hangers', 16540),\n",
       " ('Iron', 13372),\n",
       " ('\"Hot water\"', 12771),\n",
       " ('Shampoo', 12380),\n",
       " ('TV', 11547),\n",
       " ('\"Smoke detector\"', 9655),\n",
       " ('\"Dishes and silverware\"', 9582),\n",
       " ('Refrigerator', 9532),\n",
       " ('\"Cooking basics\"', 8570),\n",
       " ('Stove', 8395),\n",
       " ('\"Bed linens\"', 7593),\n",
       " ('Oven', 7543),\n",
       " ('\"Family/kid friendly\"', 6946),\n",
       " ('Internet', 6904),\n",
       " ('\"Coffee maker\"', 6868),\n",
       " ('\"Lock on bedroom door\"', 6618),\n",
       " ('\"Free street parking\"', 6486),\n",
       " ('\"Host greets you\"', 6039),\n",
       " ('Elevator', 5648),\n",
       " ('\"Buzzer/wireless intercom\"', 5352),\n",
       " ('Dishwasher', 5297),\n",
       " ('\"First aid kit\"', 4901),\n",
       " ('\"Smoking allowed\"', 4660),\n",
       " ('\"Patio or balcony\"', 4152),\n",
       " ('Dryer', 4095),\n",
       " ('\"Private entrance\"', 4013),\n",
       " ('Microwave', 3968),\n",
       " ('\"Long term stays allowed\"', 3943),\n",
       " ('\"Fire extinguisher\"', 3862),\n",
       " ('\"Extra pillows and blankets\"', 3859),\n",
       " ('\"Cable TV\"', 3717),\n",
       " ('\"Luggage dropoff allowed\"', 3688),\n",
       " ('\"Pets allowed\"', 3573),\n",
       " ('\"translation missing: en.hosting_amenity_50\"', 3384),\n",
       " ('\"Carbon monoxide detector\"', 2985),\n",
       " ('\"Private living room\"', 2750),\n",
       " ('\"translation missing: en.hosting_amenity_49\"', 2544),\n",
       " ('\"Free parking on premises\"', 2511),\n",
       " ('\"Paid parking off premises\"', 2286),\n",
       " ('Bathtub', 2140),\n",
       " ('\"Single level home\"', 1856),\n",
       " ('\"Safety card\"', 1804),\n",
       " ('\"Self check-in\"', 1590),\n",
       " ('\"High chair\"', 1553),\n",
       " ('\"Garden or backyard\"', 1453),\n",
       " ('Other', 1437),\n",
       " ('\"Children’s books and toys\"', 1430),\n",
       " ('Breakfast', 1372),\n",
       " ('\"Room-darkening shades\"', 1348),\n",
       " ('\"24-hour check-in\"', 1218),\n",
       " ('Crib', 1092),\n",
       " ('\"Pack ’n Play/travel crib\"', 1069),\n",
       " ('\"Handheld shower head\"', 924),\n",
       " ('Lockbox', 884),\n",
       " ('\"Ethernet connection\"', 787),\n",
       " ('\"Cleaning before checkout\"', 764),\n",
       " ('\"Pets live on this property\"', 759),\n",
       " ('\"Paid parking on premises\"', 723),\n",
       " ('\"Children’s dinnerware\"', 692),\n",
       " ('\"Indoor fireplace\"', 681),\n",
       " ('\"Suitable for events\"', 624),\n",
       " ('\"Wheelchair accessible\"', 599),\n",
       " ('\"Hot tub\"', 595),\n",
       " ('\"Air conditioning\"', 562),\n",
       " ('\"BBQ grill\"', 540),\n",
       " ('\"Trash can\"', 514),\n",
       " ('\"Shower gel\"', 428),\n",
       " ('\"Outlet covers\"', 413),\n",
       " ('\"Baby bath\"', 405),\n",
       " ('\"Changing table\"', 398),\n",
       " ('\"Building staff\"', 371),\n",
       " ('Cat(s)', 363),\n",
       " ('\"Baking sheet\"', 350),\n",
       " ('Waterfront', 347),\n",
       " ('\"Window guards\"', 336),\n",
       " ('\"Babysitter recommendations\"', 325),\n",
       " ('\"EV charger\"', 321),\n",
       " ('\"Lake access\"', 307),\n",
       " ('\"Game console\"', 298),\n",
       " ('Gym', 297),\n",
       " ('\"No stairs or steps to enter\"', 290),\n",
       " ('Dog(s)', 229),\n",
       " ('Keypad', 182),\n",
       " ('\"Pocket wifi\"', 169),\n",
       " ('\"Smart lock\"', 151),\n",
       " ('\"Baby monitor\"', 143),\n",
       " ('Pool', 130),\n",
       " ('\"Well-lit path to entrance\"', 119),\n",
       " ('\"Wide entrance for guests\"', 113),\n",
       " ('\"Beach essentials\"', 111),\n",
       " ('\"Wide hallways\"', 98),\n",
       " ('\"Flat path to guest entrance\"', 90),\n",
       " ('\"Full kitchen\"', 83),\n",
       " ('\"Stair gates\"', 80),\n",
       " ('\"Hot water kettle\"', 79),\n",
       " ('Doorman', 70),\n",
       " ('', 64),\n",
       " ('Ski-in/Ski-out', 55),\n",
       " ('\"Table corner guards\"', 54),\n",
       " ('\"Barbecue utensils\"', 52),\n",
       " ('\"Bedroom comforts\"', 50),\n",
       " ('\"Bathroom essentials\"', 50),\n",
       " ('\"Body soap\"', 48),\n",
       " ('\"Bath towel\"', 48),\n",
       " ('\"Toilet paper\"', 48),\n",
       " ('\"Other pet(s)\"', 45),\n",
       " ('\"Disabled parking spot\"', 37),\n",
       " ('\"Fireplace guards\"', 26),\n",
       " ('\"Extra space around bed\"', 24),\n",
       " ('\"Bread maker\"', 24),\n",
       " ('\"Accessible-height bed\"', 22),\n",
       " ('\"Step-free shower\"', 19),\n",
       " ('Beachfront', 18),\n",
       " ('\"Outdoor seating\"', 16),\n",
       " ('\"Espresso machine\"', 15),\n",
       " ('\"Rain shower\"', 15),\n",
       " ('\"Walk-in shower\"', 13),\n",
       " ('\"Heated towel rack\"', 13),\n",
       " ('\"Breakfast table\"', 12),\n",
       " ('\"Convection oven\"', 12),\n",
       " ('\"Wide entrance\"', 12),\n",
       " ('\"Wide entryway\"', 12),\n",
       " ('\"Accessible-height toilet\"', 12),\n",
       " ('Netflix', 11),\n",
       " ('\"Smart TV\"', 10),\n",
       " ('\"Sound system\"', 10),\n",
       " ('\"Soaking tub\"', 10),\n",
       " ('\"Ground floor access\"', 9),\n",
       " ('Kitchenette', 9),\n",
       " ('\"En suite bathroom\"', 9),\n",
       " ('Balcony', 8),\n",
       " ('\"Heated floors\"', 7),\n",
       " ('\"DVD player\"', 7),\n",
       " ('Printer', 6),\n",
       " ('Terrace', 6),\n",
       " ('\"Formal dining area\"', 6),\n",
       " ('\"Washer / Dryer\"', 5),\n",
       " ('\"Day bed\"', 5),\n",
       " ('\"Wide clearance to shower', 5),\n",
       " (' toilet\"', 5),\n",
       " ('\"Fixed grab bars for shower\"', 5),\n",
       " ('\"Fixed grab bars for toilet\"', 5),\n",
       " ('\"Firm mattress\"', 4),\n",
       " ('\"Wide doorway to guest bathroom\"', 4),\n",
       " ('\"Outdoor parking\"', 3),\n",
       " ('\"Private bathroom\"', 3),\n",
       " ('\"Pillow-top mattress\"', 3),\n",
       " ('\"Shower chair\"', 3),\n",
       " ('\"High-resolution computer monitor\"', 2),\n",
       " ('\"Steam oven\"', 2),\n",
       " ('\"Standing valet\"', 2),\n",
       " ('\"Projector and screen\"', 2),\n",
       " ('\"Fire pit\"', 2),\n",
       " ('\"Gas oven\"', 2),\n",
       " ('\"Memory foam mattress\"', 2),\n",
       " ('\"Stand alone steam shower\"', 2),\n",
       " ('Mudroom', 1),\n",
       " ('\"Double oven\"', 1),\n",
       " ('\"Warming drawer\"', 1),\n",
       " ('\"Wine cooler\"', 1),\n",
       " ('Hammock', 1),\n",
       " ('\"Beach view\"', 1),\n",
       " ('\"Sun loungers\"', 1),\n",
       " ('\"Ceiling fan\"', 1),\n",
       " ('Bidet', 1),\n",
       " ('\"Air purifier\"', 1),\n",
       " ('\"HBO GO\"', 1),\n",
       " ('\"Bathtub with bath chair\"', 1),\n",
       " ('\"Private hot tub\"', 1),\n",
       " ('\"Amazon Echo\"', 1),\n",
       " ('\"Murphy bed\"', 1)]"
      ]
     },
     "execution_count": 138,
     "metadata": {},
     "output_type": "execute_result"
    }
   ],
   "source": [
    "amenities_counter.most_common()"
   ]
  },
  {
   "cell_type": "markdown",
   "id": "9d6340a2",
   "metadata": {},
   "source": [
    "What should we include? Let's get a feeling for the correlation with regard to price"
   ]
  },
  {
   "cell_type": "code",
   "execution_count": 139,
   "id": "11a25cf1",
   "metadata": {},
   "outputs": [],
   "source": [
    "data_amenities = data.copy()"
   ]
  },
  {
   "cell_type": "code",
   "execution_count": 140,
   "id": "d9527224",
   "metadata": {},
   "outputs": [],
   "source": [
    "for d in amenities_counter:\n",
    "    data_amenities[d] = 0"
   ]
  },
  {
   "cell_type": "code",
   "execution_count": 141,
   "id": "1693319a",
   "metadata": {},
   "outputs": [],
   "source": [
    "for i, row in data_amenities.iterrows():\n",
    "    for d in amenities_counter:\n",
    "        if d in row['amenities']:\n",
    "            data_amenities.at[i, d] = 1"
   ]
  },
  {
   "cell_type": "code",
   "execution_count": 142,
   "id": "593af914",
   "metadata": {},
   "outputs": [
    {
     "name": "stderr",
     "output_type": "stream",
     "text": [
      "/opt/anaconda3/lib/python3.7/site-packages/scipy/stats/stats.py:3508: PearsonRConstantInputWarning: An input array is constant; the correlation coefficent is not defined.\n",
      "  warnings.warn(PearsonRConstantInputWarning())\n"
     ]
    }
   ],
   "source": [
    "amenities_corr = []\n",
    "for a in amenities_counter:\n",
    "    amenities_corr.append( (a, stats.pointbiserialr(data_amenities[a], data_amenities['price'])) )"
   ]
  },
  {
   "cell_type": "code",
   "execution_count": 143,
   "id": "f38b2eb1",
   "metadata": {},
   "outputs": [],
   "source": [
    "amenities_corr.sort(key=lambda tup: tup[1].correlation, reverse=True)"
   ]
  },
  {
   "cell_type": "code",
   "execution_count": 144,
   "id": "bf9a5820",
   "metadata": {},
   "outputs": [
    {
     "data": {
      "text/plain": [
       "[('Gym',\n",
       "  PointbiserialrResult(correlation=0.2290183272429663, pvalue=6.463713276588153e-299)),\n",
       " ('\"Air conditioning\"',\n",
       "  PointbiserialrResult(correlation=0.1868284237205083, pvalue=7.543670131309699e-198)),\n",
       " ('Elevator',\n",
       "  PointbiserialrResult(correlation=0.10180783373913233, pvalue=2.210491140486913e-59)),\n",
       " ('TV',\n",
       "  PointbiserialrResult(correlation=0.09612685655390006, pvalue=4.16461344764714e-53)),\n",
       " ('\"Fire extinguisher\"',\n",
       "  PointbiserialrResult(correlation=0.06902332353035254, pvalue=3.7358903250203155e-28)),\n",
       " ('\"Bed linens\"',\n",
       "  PointbiserialrResult(correlation=0.05945432956321725, pvalue=2.6969619878083848e-21)),\n",
       " ('\"High chair\"',\n",
       "  PointbiserialrResult(correlation=0.052611761917644405, pvalue=5.207794241014893e-17)),\n",
       " ('Shampoo',\n",
       "  PointbiserialrResult(correlation=0.052594811242938314, pvalue=5.328840570454117e-17)),\n",
       " ('\"Pack ’n Play/travel crib\"',\n",
       "  PointbiserialrResult(correlation=0.05070633061053491, pvalue=6.586982754316611e-16)),\n",
       " ('Crib',\n",
       "  PointbiserialrResult(correlation=0.0506544667002543, pvalue=7.048996158640101e-16)),\n",
       " ('\"Hair dryer\"',\n",
       "  PointbiserialrResult(correlation=0.048685133497784944, pvalue=8.795691659043466e-15)),\n",
       " ('Iron',\n",
       "  PointbiserialrResult(correlation=0.04867518691932049, pvalue=8.906329833749574e-15)),\n",
       " ('\"Hot water\"',\n",
       "  PointbiserialrResult(correlation=0.04805542236117151, pvalue=1.931220495123648e-14)),\n",
       " ('\"Private entrance\"',\n",
       "  PointbiserialrResult(correlation=0.043905458877791986, pvalue=2.6834578443134155e-12)),\n",
       " ('\"Self check-in\"',\n",
       "  PointbiserialrResult(correlation=0.04308255376743917, pvalue=6.781743713615763e-12)),\n",
       " ('Hangers',\n",
       "  PointbiserialrResult(correlation=0.04292845246992888, pvalue=8.05239691615302e-12)),\n",
       " ('\"Smoke detector\"',\n",
       "  PointbiserialrResult(correlation=0.042377814008501394, pvalue=1.480209184501379e-11)),\n",
       " ('Breakfast',\n",
       "  PointbiserialrResult(correlation=0.0416982331770832, pvalue=3.105262591726476e-11)),\n",
       " ('\"Flat path to guest entrance\"',\n",
       "  PointbiserialrResult(correlation=0.04140695904687826, pvalue=4.250894882238672e-11)),\n",
       " ('\"Luggage dropoff allowed\"',\n",
       "  PointbiserialrResult(correlation=0.0405275727672229, pvalue=1.0830603239144157e-10)),\n",
       " ('Dryer',\n",
       "  PointbiserialrResult(correlation=0.039810780298634926, pvalue=2.2883898429219606e-10)),\n",
       " ('\"Well-lit path to entrance\"',\n",
       "  PointbiserialrResult(correlation=0.0395000199834072, pvalue=3.152465752656523e-10)),\n",
       " ('\"Building staff\"',\n",
       "  PointbiserialrResult(correlation=0.0385573386684281, pvalue=8.208783704325384e-10)),\n",
       " ('\"First aid kit\"',\n",
       "  PointbiserialrResult(correlation=0.038068676023238504, pvalue=1.3364457406796134e-09)),\n",
       " ('\"Wide entrance for guests\"',\n",
       "  PointbiserialrResult(correlation=0.03803820655962761, pvalue=1.3774133593178475e-09)),\n",
       " ('\"No stairs or steps to enter\"',\n",
       "  PointbiserialrResult(correlation=0.0376823074172878, pvalue=1.9565380162702375e-09)),\n",
       " ('\"Indoor fireplace\"',\n",
       "  PointbiserialrResult(correlation=0.0349159524476947, pvalue=2.6897365270323964e-08)),\n",
       " ('\"Paid parking on premises\"',\n",
       "  PointbiserialrResult(correlation=0.03486615848506836, pvalue=2.8147704538292452e-08)),\n",
       " ('\"Room-darkening shades\"',\n",
       "  PointbiserialrResult(correlation=0.03446705971480133, pvalue=4.042430370215414e-08)),\n",
       " ('Bathtub',\n",
       "  PointbiserialrResult(correlation=0.03349666649888256, pvalue=9.588117943271367e-08)),\n",
       " ('\"Children’s books and toys\"',\n",
       "  PointbiserialrResult(correlation=0.0328305923020784, pvalue=1.7113929348437406e-07)),\n",
       " ('\"Cable TV\"',\n",
       "  PointbiserialrResult(correlation=0.032061548141077555, pvalue=3.2957526110601605e-07)),\n",
       " ('\"Long term stays allowed\"',\n",
       "  PointbiserialrResult(correlation=0.03189075832433475, pvalue=3.804531847911559e-07)),\n",
       " ('\"Patio or balcony\"',\n",
       "  PointbiserialrResult(correlation=0.0278924165522023, pvalue=8.933406824374167e-06)),\n",
       " ('\"Safety card\"',\n",
       "  PointbiserialrResult(correlation=0.027270437981783812, pvalue=1.4092145516930779e-05)),\n",
       " ('Dishwasher',\n",
       "  PointbiserialrResult(correlation=0.025819390449747997, pvalue=3.9346638254110024e-05)),\n",
       " ('\"Window guards\"',\n",
       "  PointbiserialrResult(correlation=0.025668045415214443, pvalue=4.3665565324284675e-05)),\n",
       " ('\"Coffee maker\"',\n",
       "  PointbiserialrResult(correlation=0.025334638579734337, pvalue=5.481900102925296e-05)),\n",
       " ('\"Paid parking off premises\"',\n",
       "  PointbiserialrResult(correlation=0.024573600063728593, pvalue=9.121263346042378e-05)),\n",
       " ('Pool',\n",
       "  PointbiserialrResult(correlation=0.024541081281457485, pvalue=9.318971042108775e-05)),\n",
       " ('\"Carbon monoxide detector\"',\n",
       "  PointbiserialrResult(correlation=0.023806128771858302, pvalue=0.00015027659705726598)),\n",
       " ('\"Changing table\"',\n",
       "  PointbiserialrResult(correlation=0.023680984534912446, pvalue=0.00016280345533539265)),\n",
       " ('Keypad',\n",
       "  PointbiserialrResult(correlation=0.023358844793138482, pvalue=0.00019971874049948735)),\n",
       " ('\"Bedroom comforts\"',\n",
       "  PointbiserialrResult(correlation=0.02329744313872272, pvalue=0.00020759311317442367)),\n",
       " ('\"Bathroom essentials\"',\n",
       "  PointbiserialrResult(correlation=0.02329744313872272, pvalue=0.00020759311317442367)),\n",
       " ('\"Wide hallways\"',\n",
       "  PointbiserialrResult(correlation=0.023098302915370288, pvalue=0.00023518479139704744)),\n",
       " ('\"Body soap\"',\n",
       "  PointbiserialrResult(correlation=0.022554063097302148, pvalue=0.0003291647721171152)),\n",
       " ('\"Bath towel\"',\n",
       "  PointbiserialrResult(correlation=0.022554063097302148, pvalue=0.0003291647721171152)),\n",
       " ('\"Toilet paper\"',\n",
       "  PointbiserialrResult(correlation=0.022554063097302148, pvalue=0.0003291647721171152)),\n",
       " ('\"Babysitter recommendations\"',\n",
       "  PointbiserialrResult(correlation=0.022548212766587184, pvalue=0.00033034371437585576)),\n",
       " ('\"Children’s dinnerware\"',\n",
       "  PointbiserialrResult(correlation=0.022197053377145285, pvalue=0.0004088010733844002)),\n",
       " ('\"Family/kid friendly\"',\n",
       "  PointbiserialrResult(correlation=0.018734766990117818, pvalue=0.002854882466015781)),\n",
       " ('\"Full kitchen\"',\n",
       "  PointbiserialrResult(correlation=0.018180316849664407, pvalue=0.0037957925978770956)),\n",
       " ('Microwave',\n",
       "  PointbiserialrResult(correlation=0.018101311224836006, pvalue=0.00395071210401634)),\n",
       " ('\"BBQ grill\"',\n",
       "  PointbiserialrResult(correlation=0.018000465137642887, pvalue=0.004156792983155109)),\n",
       " ('\"Handheld shower head\"',\n",
       "  PointbiserialrResult(correlation=0.01795173048038955, pvalue=0.004259837437509115)),\n",
       " ('\"EV charger\"',\n",
       "  PointbiserialrResult(correlation=0.01790618230730058, pvalue=0.0043582329092550455)),\n",
       " ('\"Shower gel\"',\n",
       "  PointbiserialrResult(correlation=0.017618254949591756, pvalue=0.005029366669919937)),\n",
       " ('\"Pets allowed\"',\n",
       "  PointbiserialrResult(correlation=0.016755397152382685, pvalue=0.007636233665719387)),\n",
       " ('Lockbox',\n",
       "  PointbiserialrResult(correlation=0.016450261808609548, pvalue=0.008814788942876265)),\n",
       " ('\"Baby bath\"',\n",
       "  PointbiserialrResult(correlation=0.01511504702456041, pvalue=0.016104385439651075)),\n",
       " ('\"Single level home\"',\n",
       "  PointbiserialrResult(correlation=0.014944055842220999, pvalue=0.017344901696244835)),\n",
       " ('Waterfront',\n",
       "  PointbiserialrResult(correlation=0.01487672703265509, pvalue=0.0178558950010269)),\n",
       " ('\"Lake access\"',\n",
       "  PointbiserialrResult(correlation=0.014066610862464444, pvalue=0.025117070702222456)),\n",
       " ('\"Ethernet connection\"',\n",
       "  PointbiserialrResult(correlation=0.01279696131359839, pvalue=0.04160652813645102)),\n",
       " ('\"Cooking basics\"',\n",
       "  PointbiserialrResult(correlation=0.011919940465423266, pvalue=0.05772354431609676)),\n",
       " ('Wifi',\n",
       "  PointbiserialrResult(correlation=0.01147222633423511, pvalue=0.06777414621760483)),\n",
       " ('Stove',\n",
       "  PointbiserialrResult(correlation=0.011251553233555131, pvalue=0.07323398790218624)),\n",
       " ('\"Smart lock\"',\n",
       "  PointbiserialrResult(correlation=0.010896990703506757, pvalue=0.08275567040308882)),\n",
       " ('\"Extra pillows and blankets\"',\n",
       "  PointbiserialrResult(correlation=0.010846848402944914, pvalue=0.08417980008808335)),\n",
       " ('\"Outlet covers\"',\n",
       "  PointbiserialrResult(correlation=0.010517562336750068, pvalue=0.0940316531006811)),\n",
       " ('Doorman',\n",
       "  PointbiserialrResult(correlation=0.009830495062762389, pvalue=0.11755710663248632)),\n",
       " ('\"Espresso machine\"',\n",
       "  PointbiserialrResult(correlation=0.009609975530829687, pvalue=0.1260168358967547)),\n",
       " ('Refrigerator',\n",
       "  PointbiserialrResult(correlation=0.00935511533962893, pvalue=0.1363763841932448)),\n",
       " ('\"Game console\"',\n",
       "  PointbiserialrResult(correlation=0.008687937469805604, pvalue=0.166604623107873)),\n",
       " ('\"Stair gates\"',\n",
       "  PointbiserialrResult(correlation=0.008311213038691683, pvalue=0.18576338444791207)),\n",
       " ('\"Baby monitor\"',\n",
       "  PointbiserialrResult(correlation=0.007903625604623222, pvalue=0.20827496006938026)),\n",
       " ('Essentials',\n",
       "  PointbiserialrResult(correlation=0.0076870357739010015, pvalue=0.22101293877694775)),\n",
       " ('\"Garden or backyard\"',\n",
       "  PointbiserialrResult(correlation=0.007500914032210846, pvalue=0.232397346070089)),\n",
       " ('Oven',\n",
       "  PointbiserialrResult(correlation=0.0074530779842846406, pvalue=0.23538936974897234)),\n",
       " ('\"Sound system\"',\n",
       "  PointbiserialrResult(correlation=0.007172669782308357, pvalue=0.25347662552065203)),\n",
       " ('\"Wheelchair accessible\"',\n",
       "  PointbiserialrResult(correlation=0.0070325534739928705, pvalue=0.2628682949235434)),\n",
       " ('\"Dishes and silverware\"',\n",
       "  PointbiserialrResult(correlation=0.00700017847075511, pvalue=0.265072051434134)),\n",
       " ('\"Wide entrance\"',\n",
       "  PointbiserialrResult(correlation=0.006931732763245126, pvalue=0.2697729383109043)),\n",
       " ('\"Walk-in shower\"',\n",
       "  PointbiserialrResult(correlation=0.006435570109048328, pvalue=0.30555622969787566)),\n",
       " ('\"Accessible-height bed\"',\n",
       "  PointbiserialrResult(correlation=0.00624206735702338, pvalue=0.3203283940005248)),\n",
       " ('\"Smart TV\"',\n",
       "  PointbiserialrResult(correlation=0.006057995767073119, pvalue=0.3348067521650451)),\n",
       " ('\"Heated towel rack\"',\n",
       "  PointbiserialrResult(correlation=0.006034876804794145, pvalue=0.33665455465731464)),\n",
       " ('\"Breakfast table\"',\n",
       "  PointbiserialrResult(correlation=0.005972525620954033, pvalue=0.3416706529011295)),\n",
       " ('\"Extra space around bed\"',\n",
       "  PointbiserialrResult(correlation=0.005085811509749137, pvalue=0.41811483846949166)),\n",
       " ('\"Convection oven\"',\n",
       "  PointbiserialrResult(correlation=0.004646317485090695, pvalue=0.45946694945713085)),\n",
       " ('Netflix',\n",
       "  PointbiserialrResult(correlation=0.004356224262191465, pvalue=0.4879709581755494)),\n",
       " ('\"Heated floors\"',\n",
       "  PointbiserialrResult(correlation=0.004335466608767097, pvalue=0.490046508425307)),\n",
       " ('\"Outdoor parking\"',\n",
       "  PointbiserialrResult(correlation=0.004086540062120298, pvalue=0.5153022986074196)),\n",
       " ('\"Wide entryway\"',\n",
       "  PointbiserialrResult(correlation=0.0040707931997160385, pvalue=0.5169223808525528)),\n",
       " ('Printer',\n",
       "  PointbiserialrResult(correlation=0.004069385401729268, pvalue=0.5170673475056015)),\n",
       " ('\"Baking sheet\"',\n",
       "  PointbiserialrResult(correlation=0.0037510098574053633, pvalue=0.5503840183739602)),\n",
       " ('\"Hot water kettle\"',\n",
       "  PointbiserialrResult(correlation=0.0036695922866327862, pvalue=0.5590706288504367)),\n",
       " ('\"Free parking on premises\"',\n",
       "  PointbiserialrResult(correlation=0.0030716115227256277, pvalue=0.6248277845554229)),\n",
       " ('\"24-hour check-in\"',\n",
       "  PointbiserialrResult(correlation=0.002978611338086924, pvalue=0.6353477553231615)),\n",
       " ('\"Trash can\"',\n",
       "  PointbiserialrResult(correlation=0.0028257466082539356, pvalue=0.6527996626704171)),\n",
       " ('Mudroom',\n",
       "  PointbiserialrResult(correlation=0.0028022145847576467, pvalue=0.6555034828157236)),\n",
       " ('\"Suitable for events\"',\n",
       "  PointbiserialrResult(correlation=0.002506454077630573, pvalue=0.6898616992457918)),\n",
       " ('\"Firm mattress\"',\n",
       "  PointbiserialrResult(correlation=0.002426940660547752, pvalue=0.6992125206210887)),\n",
       " ('\"High-resolution computer monitor\"',\n",
       "  PointbiserialrResult(correlation=0.0019203084518980575, pvalue=0.7598143375975114)),\n",
       " ('\"Pocket wifi\"',\n",
       "  PointbiserialrResult(correlation=0.0015533222052992708, pvalue=0.804677515072788)),\n",
       " ('\"Hot tub\"',\n",
       "  PointbiserialrResult(correlation=0.0012421267433847237, pvalue=0.8432376085616266)),\n",
       " ('Other',\n",
       "  PointbiserialrResult(correlation=0.0010133824558592605, pvalue=0.8718284177871211)),\n",
       " ('\"Ground floor access\"',\n",
       "  PointbiserialrResult(correlation=0.00048189785567107936, pvalue=0.9388455315179466)),\n",
       " ('\"Beach essentials\"',\n",
       "  PointbiserialrResult(correlation=-0.0003559457153136932, pvalue=0.9548091563523451)),\n",
       " ('\"Private bathroom\"',\n",
       "  PointbiserialrResult(correlation=-0.000900451437455771, pvalue=0.8860081164127706)),\n",
       " ('\"Washer / Dryer\"',\n",
       "  PointbiserialrResult(correlation=-0.0011108439494788107, pvalue=0.8596239353772345)),\n",
       " ('\"Other pet(s)\"',\n",
       "  PointbiserialrResult(correlation=-0.0023266139692991786, pvalue=0.7110762518918566)),\n",
       " ('Ski-in/Ski-out',\n",
       "  PointbiserialrResult(correlation=-0.0025804756350522613, pvalue=0.6811990422200002)),\n",
       " ('\"Cleaning before checkout\"',\n",
       "  PointbiserialrResult(correlation=-0.005764281563038769, pvalue=0.35876813400443947)),\n",
       " ('\"Lock on bedroom door\"',\n",
       "  PointbiserialrResult(correlation=-0.006996547159654131, pvalue=0.26532002523790277)),\n",
       " ('Cat(s)',\n",
       "  PointbiserialrResult(correlation=-0.00772352316956701, pvalue=0.21882881794187647)),\n",
       " ('Dog(s)',\n",
       "  PointbiserialrResult(correlation=-0.008704011655230555, pvalue=0.16582149906068955)),\n",
       " ('\"Private living room\"',\n",
       "  PointbiserialrResult(correlation=-0.008913588030544508, pvalue=0.15586302166596067)),\n",
       " ('Internet',\n",
       "  PointbiserialrResult(correlation=-0.009067886926050314, pvalue=0.148826125826865)),\n",
       " ('\"Pets live on this property\"',\n",
       "  PointbiserialrResult(correlation=-0.013200738441930546, pvalue=0.035577263624028216)),\n",
       " ('\"Buzzer/wireless intercom\"',\n",
       "  PointbiserialrResult(correlation=-0.01466360064106125, pvalue=0.019561378199191366)),\n",
       " ('\"Free street parking\"',\n",
       "  PointbiserialrResult(correlation=-0.01470237186621262, pvalue=0.019240926310183225)),\n",
       " ('\"Laptop friendly workspace\"',\n",
       "  PointbiserialrResult(correlation=-0.01592980467787128, pvalue=0.011203747432233945)),\n",
       " ('\"Host greets you\"',\n",
       "  PointbiserialrResult(correlation=-0.01600271384039948, pvalue=0.010837705502670152)),\n",
       " ('\"translation missing: en.hosting_amenity_50\"',\n",
       "  PointbiserialrResult(correlation=-0.032018732680774195, pvalue=3.416753375708946e-07)),\n",
       " ('\"translation missing: en.hosting_amenity_49\"',\n",
       "  PointbiserialrResult(correlation=-0.03366814564194616, pvalue=8.244904266933373e-08)),\n",
       " ('\"Smoking allowed\"',\n",
       "  PointbiserialrResult(correlation=-0.05053722432448235, pvalue=8.214325937902614e-16)),\n",
       " ('Washer',\n",
       "  PointbiserialrResult(correlation=-0.06830235089416506, pvalue=1.3316982904642128e-27)),\n",
       " ('Heating',\n",
       "  PointbiserialrResult(correlation=-0.09044533715022746, pvalue=3.399477310732579e-47)),\n",
       " ('Kitchen',\n",
       "  PointbiserialrResult(correlation=-0.11676725072984852, pvalue=1.174639673815524e-77)),\n",
       " ('', PointbiserialrResult(correlation=nan, pvalue=nan)),\n",
       " ('\"Private hot tub\"',\n",
       "  PointbiserialrResult(correlation=0.05133332348700299, pvalue=2.886977369729777e-16)),\n",
       " ('\"Disabled parking spot\"',\n",
       "  PointbiserialrResult(correlation=0.04633249121421291, pvalue=1.578542564898169e-13)),\n",
       " ('\"Day bed\"',\n",
       "  PointbiserialrResult(correlation=0.03158950185250065, pvalue=4.892315410367546e-07)),\n",
       " ('\"Outdoor seating\"',\n",
       "  PointbiserialrResult(correlation=0.018226708440597348, pvalue=0.003707417840145015)),\n",
       " ('\"Stand alone steam shower\"',\n",
       "  PointbiserialrResult(correlation=0.010703916694588821, pvalue=0.08834842046443919)),\n",
       " ('\"Formal dining area\"',\n",
       "  PointbiserialrResult(correlation=0.009082031864635742, pvalue=0.14819337392100407)),\n",
       " ('\"Rain shower\"',\n",
       "  PointbiserialrResult(correlation=0.008632611019985269, pvalue=0.1693213498701903)),\n",
       " ('\"En suite bathroom\"',\n",
       "  PointbiserialrResult(correlation=0.007618252596640036, pvalue=0.22517267669563068)),\n",
       " ('\"Wide doorway to guest bathroom\"',\n",
       "  PointbiserialrResult(correlation=0.006977001383705857, pvalue=0.266657505251516)),\n",
       " ('\"Gas oven\"',\n",
       "  PointbiserialrResult(correlation=0.006618517511941955, pvalue=0.292011958222146)),\n",
       " ('\"Wide clearance to shower',\n",
       "  PointbiserialrResult(correlation=0.0062922766133557346, pvalue=0.31645125493149423)),\n",
       " ('\"Fireplace guards\"',\n",
       "  PointbiserialrResult(correlation=0.005952135324557134, pvalue=0.34332135849118006)),\n",
       " (' toilet\"',\n",
       "  PointbiserialrResult(correlation=0.005783177921765909, pvalue=0.357194852471058)),\n",
       " ('\"Amazon Echo\"',\n",
       "  PointbiserialrResult(correlation=0.005113219770578852, pvalue=0.4156107065939172)),\n",
       " ('Kitchenette',\n",
       "  PointbiserialrResult(correlation=0.004507533863397155, pvalue=0.4729858449562371)),\n",
       " ('\"Barbecue utensils\"',\n",
       "  PointbiserialrResult(correlation=0.004484074950561776, pvalue=0.47529240932899863)),\n",
       " ('Terrace',\n",
       "  PointbiserialrResult(correlation=0.004305274647042515, pvalue=0.4930738488765022)),\n",
       " ('\"HBO GO\"',\n",
       "  PointbiserialrResult(correlation=0.0042465928258959024, pvalue=0.4989864048106491)),\n",
       " ('\"DVD player\"',\n",
       "  PointbiserialrResult(correlation=0.0037239597310696837, pvalue=0.5532626692856527)),\n",
       " ('Hammock',\n",
       "  PointbiserialrResult(correlation=0.003668841529440599, pvalue=0.5591510374142517)),\n",
       " ('\"Beach view\"',\n",
       "  PointbiserialrResult(correlation=0.003668841529440599, pvalue=0.5591510374142517)),\n",
       " ('\"Sun loungers\"',\n",
       "  PointbiserialrResult(correlation=0.003668841529440599, pvalue=0.5591510374142517)),\n",
       " ('\"Accessible-height toilet\"',\n",
       "  PointbiserialrResult(correlation=0.0036370647527670234, pvalue=0.5625595722959916)),\n",
       " ('\"Pillow-top mattress\"',\n",
       "  PointbiserialrResult(correlation=0.0034360629100016775, pvalue=0.5843492579884564)),\n",
       " ('Balcony',\n",
       "  PointbiserialrResult(correlation=0.003401839147654899, pvalue=0.5880980666091237)),\n",
       " ('\"Soaking tub\"',\n",
       "  PointbiserialrResult(correlation=0.0033535407792892637, pvalue=0.5934074125514442)),\n",
       " ('\"Fire pit\"',\n",
       "  PointbiserialrResult(correlation=0.0030437932271259465, pvalue=0.6279666517946251)),\n",
       " ('\"Fixed grab bars for toilet\"',\n",
       "  PointbiserialrResult(correlation=0.0030235340262752125, pvalue=0.6302568378117603)),\n",
       " ('\"Air purifier\"',\n",
       "  PointbiserialrResult(correlation=0.0029466524088714715, pvalue=0.6389800795058669)),\n",
       " ('\"Step-free shower\"',\n",
       "  PointbiserialrResult(correlation=0.0025661881970581064, pvalue=0.6828678572337579)),\n",
       " ('\"Projector and screen\"',\n",
       "  PointbiserialrResult(correlation=0.0023288483701627443, pvalue=0.7108112556284915)),\n",
       " ('\"Table corner guards\"',\n",
       "  PointbiserialrResult(correlation=0.002302989883382838, pvalue=0.7138801601967641)),\n",
       " ('Beachfront',\n",
       "  PointbiserialrResult(correlation=0.0016283772108359133, pvalue=0.7954444102106275)),\n",
       " ('\"Memory foam mattress\"',\n",
       "  PointbiserialrResult(correlation=0.0015117685336333718, pvalue=0.8098011884014257)),\n",
       " ('\"Bathtub with bath chair\"',\n",
       "  PointbiserialrResult(correlation=0.0014733866029104543, pvalue=0.8145410360268021)),\n",
       " ('\"Murphy bed\"',\n",
       "  PointbiserialrResult(correlation=0.0007800850471640916, pvalue=0.9011615814520746)),\n",
       " ('\"Steam oven\"',\n",
       "  PointbiserialrResult(correlation=0.0004904187379716544, pvalue=0.9377663790200477)),\n",
       " ('\"Ceiling fan\"',\n",
       "  PointbiserialrResult(correlation=5.7895926594964555e-05, pvalue=0.9926457071637754)),\n",
       " ('Bidet',\n",
       "  PointbiserialrResult(correlation=5.7895926594964555e-05, pvalue=0.9926457071637754)),\n",
       " ('\"Double oven\"',\n",
       "  PointbiserialrResult(correlation=-8.654189751886084e-05, pvalue=0.9890071137702253)),\n",
       " ('\"Warming drawer\"',\n",
       "  PointbiserialrResult(correlation=-8.654189751886084e-05, pvalue=0.9890071137702253)),\n",
       " ('\"Standing valet\"',\n",
       "  PointbiserialrResult(correlation=-0.0002449531149047822, pvalue=0.9688920091849987)),\n",
       " ('\"Wine cooler\"',\n",
       "  PointbiserialrResult(correlation=-0.00040430511056927676, pvalue=0.9486774180827853)),\n",
       " ('\"Fixed grab bars for shower\"',\n",
       "  PointbiserialrResult(correlation=-0.00046484739076724485, pvalue=0.9410052736370529)),\n",
       " ('\"Bread maker\"',\n",
       "  PointbiserialrResult(correlation=-0.0006778304992331049, pvalue=0.9140634455680653)),\n",
       " ('\"Shower chair\"',\n",
       "  PointbiserialrResult(correlation=-0.0019011855176382596, pvalue=0.7621336541369713))]"
      ]
     },
     "execution_count": 144,
     "metadata": {},
     "output_type": "execute_result"
    }
   ],
   "source": [
    "amenities_corr"
   ]
  },
  {
   "cell_type": "markdown",
   "id": "62a5e7aa",
   "metadata": {},
   "source": [
    "now let's go with Gym, Air conditioning and Elevator for the moment"
   ]
  },
  {
   "cell_type": "code",
   "execution_count": 145,
   "id": "0b32334b",
   "metadata": {},
   "outputs": [],
   "source": [
    "sel_amenities = ['Gym', '\"Air conditioning\"', 'Elevator']"
   ]
  },
  {
   "cell_type": "code",
   "execution_count": 146,
   "id": "ef233de5",
   "metadata": {},
   "outputs": [],
   "source": [
    "data[sel_amenities] = data_amenities[sel_amenities]"
   ]
  },
  {
   "cell_type": "code",
   "execution_count": 147,
   "id": "b839ecaa",
   "metadata": {},
   "outputs": [],
   "source": [
    "sel_columns.remove('amenities')"
   ]
  },
  {
   "cell_type": "code",
   "execution_count": 148,
   "id": "6a21fa64",
   "metadata": {},
   "outputs": [],
   "source": [
    "sel_columns += sel_amenities"
   ]
  },
  {
   "cell_type": "code",
   "execution_count": 149,
   "id": "def0077c",
   "metadata": {},
   "outputs": [
    {
     "data": {
      "text/plain": [
       "['price',\n",
       " 'neighbourhood_cleansed',\n",
       " 'property_type',\n",
       " 'room_type',\n",
       " 'bathrooms',\n",
       " 'bedrooms',\n",
       " 'accommodates',\n",
       " 'guests_included',\n",
       " 'Gym',\n",
       " '\"Air conditioning\"',\n",
       " 'Elevator']"
      ]
     },
     "execution_count": 149,
     "metadata": {},
     "output_type": "execute_result"
    }
   ],
   "source": [
    "sel_columns"
   ]
  },
  {
   "cell_type": "markdown",
   "id": "270ef7c1",
   "metadata": {},
   "source": [
    "### Training a neural network"
   ]
  },
  {
   "cell_type": "markdown",
   "id": "26919310",
   "metadata": {},
   "source": [
    "#### Some preprocessing"
   ]
  },
  {
   "cell_type": "code",
   "execution_count": 150,
   "id": "b7eb4b63",
   "metadata": {},
   "outputs": [],
   "source": [
    "data_net = data[sel_columns]"
   ]
  },
  {
   "cell_type": "code",
   "execution_count": 151,
   "id": "c6e05166",
   "metadata": {},
   "outputs": [
    {
     "data": {
      "text/plain": [
       "price                     float64\n",
       "neighbourhood_cleansed     object\n",
       "property_type              object\n",
       "room_type                  object\n",
       "bathrooms                 float64\n",
       "bedrooms                  float64\n",
       "accommodates                int64\n",
       "guests_included             int64\n",
       "Gym                         int64\n",
       "\"Air conditioning\"          int64\n",
       "Elevator                    int64\n",
       "dtype: object"
      ]
     },
     "execution_count": 151,
     "metadata": {},
     "output_type": "execute_result"
    }
   ],
   "source": [
    "data_net.dtypes"
   ]
  },
  {
   "cell_type": "markdown",
   "id": "901009fe",
   "metadata": {},
   "source": [
    "three categorical variables left... turn them into dummies"
   ]
  },
  {
   "cell_type": "markdown",
   "id": "7af70355",
   "metadata": {},
   "source": [
    "neighbourhood"
   ]
  },
  {
   "cell_type": "code",
   "execution_count": 152,
   "id": "8e163026",
   "metadata": {},
   "outputs": [],
   "source": [
    "neighbourhood_encoder = LabelBinarizer()"
   ]
  },
  {
   "cell_type": "code",
   "execution_count": 153,
   "id": "caed31f5",
   "metadata": {},
   "outputs": [
    {
     "data": {
      "text/plain": [
       "LabelBinarizer()"
      ]
     },
     "execution_count": 153,
     "metadata": {},
     "output_type": "execute_result"
    }
   ],
   "source": [
    "neighbourhood_encoder.fit(data_net['neighbourhood_cleansed'])"
   ]
  },
  {
   "cell_type": "code",
   "execution_count": 154,
   "id": "ac1d69b9",
   "metadata": {},
   "outputs": [],
   "source": [
    "transformed = neighbourhood_encoder.transform(data_net['neighbourhood_cleansed'])"
   ]
  },
  {
   "cell_type": "code",
   "execution_count": 155,
   "id": "bfbf87e2",
   "metadata": {},
   "outputs": [],
   "source": [
    "ohe_df = pd.DataFrame(transformed, columns=neighbourhood_encoder.classes_)"
   ]
  },
  {
   "cell_type": "code",
   "execution_count": 156,
   "id": "d603b1f4",
   "metadata": {},
   "outputs": [],
   "source": [
    "data_net = pd.concat([data_net, ohe_df], axis=1).drop(['neighbourhood_cleansed'], axis=1)"
   ]
  },
  {
   "cell_type": "markdown",
   "id": "63bf343c",
   "metadata": {},
   "source": [
    "property_type"
   ]
  },
  {
   "cell_type": "code",
   "execution_count": 157,
   "id": "33083cba",
   "metadata": {},
   "outputs": [],
   "source": [
    "property_type_encoder = LabelBinarizer()"
   ]
  },
  {
   "cell_type": "code",
   "execution_count": 158,
   "id": "0134511e",
   "metadata": {},
   "outputs": [
    {
     "data": {
      "text/plain": [
       "LabelBinarizer()"
      ]
     },
     "execution_count": 158,
     "metadata": {},
     "output_type": "execute_result"
    }
   ],
   "source": [
    "property_type_encoder.fit(data_net['property_type'])"
   ]
  },
  {
   "cell_type": "code",
   "execution_count": 159,
   "id": "b286c763",
   "metadata": {},
   "outputs": [],
   "source": [
    "transformed = property_type_encoder.transform(data_net['property_type'])"
   ]
  },
  {
   "cell_type": "code",
   "execution_count": 160,
   "id": "190279fe",
   "metadata": {},
   "outputs": [],
   "source": [
    "ohe_df = pd.DataFrame(transformed, columns=property_type_encoder.classes_)"
   ]
  },
  {
   "cell_type": "code",
   "execution_count": 161,
   "id": "f53f9b80",
   "metadata": {},
   "outputs": [],
   "source": [
    "data_net = pd.concat([data_net, ohe_df], axis=1).drop(['property_type'], axis=1)"
   ]
  },
  {
   "cell_type": "markdown",
   "id": "d4f5263a",
   "metadata": {},
   "source": [
    "room_type"
   ]
  },
  {
   "cell_type": "code",
   "execution_count": 162,
   "id": "eb50d910",
   "metadata": {},
   "outputs": [],
   "source": [
    "room_type_encoder = LabelBinarizer()"
   ]
  },
  {
   "cell_type": "code",
   "execution_count": 163,
   "id": "a4d8ce80",
   "metadata": {},
   "outputs": [
    {
     "data": {
      "text/plain": [
       "LabelBinarizer()"
      ]
     },
     "execution_count": 163,
     "metadata": {},
     "output_type": "execute_result"
    }
   ],
   "source": [
    "room_type_encoder.fit(data_net['room_type'])"
   ]
  },
  {
   "cell_type": "code",
   "execution_count": 164,
   "id": "10b1e5eb",
   "metadata": {},
   "outputs": [],
   "source": [
    "transformed = room_type_encoder.transform(data_net['room_type'])"
   ]
  },
  {
   "cell_type": "code",
   "execution_count": 165,
   "id": "acff4596",
   "metadata": {},
   "outputs": [],
   "source": [
    "ohe_df = pd.DataFrame(transformed, columns=room_type_encoder.classes_)"
   ]
  },
  {
   "cell_type": "code",
   "execution_count": 166,
   "id": "82003310",
   "metadata": {},
   "outputs": [],
   "source": [
    "data_net = pd.concat([data_net, ohe_df], axis=1).drop(['room_type'], axis=1)"
   ]
  },
  {
   "cell_type": "code",
   "execution_count": 167,
   "id": "6b323178",
   "metadata": {},
   "outputs": [
    {
     "data": {
      "text/plain": [
       "bedrooms          32\n",
       "bathrooms         20\n",
       "Teltower Damm      0\n",
       "Schloßstr.         0\n",
       "Schmargendorf      0\n",
       "                  ..\n",
       "Karlshorst         0\n",
       "Karow              0\n",
       "Kaulsdorf          0\n",
       "Kurfürstendamm     0\n",
       "Shared room        0\n",
       "Length: 183, dtype: int64"
      ]
     },
     "execution_count": 167,
     "metadata": {},
     "output_type": "execute_result"
    }
   ],
   "source": [
    "data_net.isna().sum().sort_values(ascending=False)"
   ]
  },
  {
   "cell_type": "markdown",
   "id": "68395d4e",
   "metadata": {},
   "source": [
    "and also some missing values"
   ]
  },
  {
   "cell_type": "code",
   "execution_count": 168,
   "id": "07673696",
   "metadata": {},
   "outputs": [],
   "source": [
    "# replace with mean\n",
    "data_net['bathrooms'].fillna((data_net['bathrooms'].mean()), inplace=True)\n",
    "data_net['bedrooms'].fillna((data_net['bedrooms'].mean()), inplace=True)"
   ]
  },
  {
   "cell_type": "code",
   "execution_count": 169,
   "id": "03180b16",
   "metadata": {},
   "outputs": [],
   "source": [
    "train_net = data_net.sample(frac=0.8, random_state=0)\n",
    "test_net = data_net.drop(train_net.index)"
   ]
  },
  {
   "cell_type": "markdown",
   "id": "b663085f",
   "metadata": {},
   "source": [
    "#### Do we need to normalize the input features?"
   ]
  },
  {
   "cell_type": "code",
   "execution_count": 171,
   "id": "b9ce2c69",
   "metadata": {},
   "outputs": [
    {
     "data": {
      "text/html": [
       "<div>\n",
       "<style scoped>\n",
       "    .dataframe tbody tr th:only-of-type {\n",
       "        vertical-align: middle;\n",
       "    }\n",
       "\n",
       "    .dataframe tbody tr th {\n",
       "        vertical-align: top;\n",
       "    }\n",
       "\n",
       "    .dataframe thead th {\n",
       "        text-align: right;\n",
       "    }\n",
       "</style>\n",
       "<table border=\"1\" class=\"dataframe\">\n",
       "  <thead>\n",
       "    <tr style=\"text-align: right;\">\n",
       "      <th></th>\n",
       "      <th>mean</th>\n",
       "      <th>std</th>\n",
       "    </tr>\n",
       "  </thead>\n",
       "  <tbody>\n",
       "    <tr>\n",
       "      <th>price</th>\n",
       "      <td>73.086987</td>\n",
       "      <td>215.074421</td>\n",
       "    </tr>\n",
       "    <tr>\n",
       "      <th>bathrooms</th>\n",
       "      <td>1.104396</td>\n",
       "      <td>0.367381</td>\n",
       "    </tr>\n",
       "    <tr>\n",
       "      <th>bedrooms</th>\n",
       "      <td>1.163959</td>\n",
       "      <td>0.672560</td>\n",
       "    </tr>\n",
       "    <tr>\n",
       "      <th>accommodates</th>\n",
       "      <td>2.689876</td>\n",
       "      <td>1.576197</td>\n",
       "    </tr>\n",
       "    <tr>\n",
       "      <th>guests_included</th>\n",
       "      <td>1.357315</td>\n",
       "      <td>0.880437</td>\n",
       "    </tr>\n",
       "    <tr>\n",
       "      <th>...</th>\n",
       "      <td>...</td>\n",
       "      <td>...</td>\n",
       "    </tr>\n",
       "    <tr>\n",
       "      <th>Villa</th>\n",
       "      <td>0.000937</td>\n",
       "      <td>0.030596</td>\n",
       "    </tr>\n",
       "    <tr>\n",
       "      <th>Entire home/apt</th>\n",
       "      <td>0.512007</td>\n",
       "      <td>0.499868</td>\n",
       "    </tr>\n",
       "    <tr>\n",
       "      <th>Hotel room</th>\n",
       "      <td>0.011539</td>\n",
       "      <td>0.106801</td>\n",
       "    </tr>\n",
       "    <tr>\n",
       "      <th>Private room</th>\n",
       "      <td>0.464027</td>\n",
       "      <td>0.498717</td>\n",
       "    </tr>\n",
       "    <tr>\n",
       "      <th>Shared room</th>\n",
       "      <td>0.012427</td>\n",
       "      <td>0.110783</td>\n",
       "    </tr>\n",
       "  </tbody>\n",
       "</table>\n",
       "<p>183 rows × 2 columns</p>\n",
       "</div>"
      ],
      "text/plain": [
       "                      mean         std\n",
       "price            73.086987  215.074421\n",
       "bathrooms         1.104396    0.367381\n",
       "bedrooms          1.163959    0.672560\n",
       "accommodates      2.689876    1.576197\n",
       "guests_included   1.357315    0.880437\n",
       "...                    ...         ...\n",
       "Villa             0.000937    0.030596\n",
       "Entire home/apt   0.512007    0.499868\n",
       "Hotel room        0.011539    0.106801\n",
       "Private room      0.464027    0.498717\n",
       "Shared room       0.012427    0.110783\n",
       "\n",
       "[183 rows x 2 columns]"
      ]
     },
     "execution_count": 171,
     "metadata": {},
     "output_type": "execute_result"
    }
   ],
   "source": [
    "train_net.describe().transpose()[['mean', 'std']]"
   ]
  },
  {
   "cell_type": "code",
   "execution_count": 172,
   "id": "6cb996ca",
   "metadata": {},
   "outputs": [],
   "source": [
    "def plot_loss(history):\n",
    "    plt.plot(history.history['loss'], label='loss')\n",
    "    plt.plot(history.history['val_loss'], label='val_loss')\n",
    "    plt.ylim([0, 50])\n",
    "    plt.xlabel('Epoch')\n",
    "    plt.ylabel('Error [price]')\n",
    "    plt.legend()\n",
    "    plt.grid(True)"
   ]
  },
  {
   "cell_type": "code",
   "execution_count": 173,
   "id": "097c442f",
   "metadata": {},
   "outputs": [],
   "source": [
    "net = keras.Sequential([\n",
    "  layers.Dense(64, activation='relu'),\n",
    "  layers.Dense(64, activation='relu'),\n",
    "  layers.Dense(1)\n",
    "])\n",
    "\n",
    "net.compile(loss='mean_absolute_error',\n",
    "            optimizer=tf.keras.optimizers.Adam(0.001))"
   ]
  },
  {
   "cell_type": "code",
   "execution_count": 174,
   "id": "55170371",
   "metadata": {},
   "outputs": [
    {
     "name": "stdout",
     "output_type": "stream",
     "text": [
      "WARNING:tensorflow:Layer dense_3 is casting an input tensor from dtype float64 to the layer's dtype of float32, which is new behavior in TensorFlow 2.  The layer has dtype float32 because it's dtype defaults to floatx.\n",
      "\n",
      "If you intended to run this layer in float32, you can safely ignore this warning. If in doubt, this warning is likely only an issue if you are porting a TensorFlow 1.X model to TensorFlow 2.\n",
      "\n",
      "To change all layers to have dtype float64 by default, call `tf.keras.backend.set_floatx('float64')`. To change just this layer, pass dtype='float64' to the layer constructor. If you are the author of this layer, you can disable autocasting by passing autocast=False to the base Layer constructor.\n",
      "\n",
      "CPU times: user 1min 58s, sys: 1min 7s, total: 3min 5s\n",
      "Wall time: 1min 5s\n"
     ]
    }
   ],
   "source": [
    "%%time\n",
    "history = net.fit(\n",
    "    train_net.drop(columns=['price'], axis=1), train_net['price'],\n",
    "    validation_split=0.2,\n",
    "    verbose=0, epochs=200)"
   ]
  },
  {
   "cell_type": "code",
   "execution_count": 175,
   "id": "a2a5c37a",
   "metadata": {
    "scrolled": true
   },
   "outputs": [
    {
     "data": {
      "image/png": "[encoded data removed]",
      "text/plain": [
       "<Figure size 576x396 with 1 Axes>"
      ]
     },
     "metadata": {},
     "output_type": "display_data"
    }
   ],
   "source": [
    "plot_loss(history)"
   ]
  },
  {
   "cell_type": "code",
   "execution_count": 176,
   "id": "af2966f6",
   "metadata": {},
   "outputs": [],
   "source": [
    "net_pred = net.predict(test_net.drop(columns=['price'], axis=1))"
   ]
  },
  {
   "cell_type": "code",
   "execution_count": 177,
   "id": "cbe0fa9f",
   "metadata": {},
   "outputs": [
    {
     "data": {
      "text/plain": [
       "167.76043200336693"
      ]
     },
     "execution_count": 177,
     "metadata": {},
     "output_type": "execute_result"
    }
   ],
   "source": [
    "np.sqrt(metrics.mean_squared_error(test_net['price'], net_pred))"
   ]
  },
  {
   "cell_type": "markdown",
   "id": "0772fa70",
   "metadata": {},
   "source": [
    "#### Now let's save the model"
   ]
  },
  {
   "cell_type": "code",
   "execution_count": 179,
   "id": "af563529",
   "metadata": {},
   "outputs": [],
   "source": [
    "!mkdir -p models"
   ]
  },
  {
   "cell_type": "code",
   "execution_count": 180,
   "id": "e552c39c",
   "metadata": {},
   "outputs": [
    {
     "name": "stdout",
     "output_type": "stream",
     "text": [
      "INFO:tensorflow:Assets written to: models/airbnb_price_net/1/assets\n"
     ]
    }
   ],
   "source": [
    "net.save('models/airbnb_price_net/1')"
   ]
  },
  {
   "cell_type": "markdown",
   "id": "87601857",
   "metadata": {},
   "source": [
    "#### And also save the label encoders"
   ]
  },
  {
   "cell_type": "code",
   "execution_count": 257,
   "id": "7de585a7",
   "metadata": {},
   "outputs": [],
   "source": [
    "!mkdir -p ../api/code/encoders/airbnb_price_net/1/"
   ]
  },
  {
   "cell_type": "code",
   "execution_count": 258,
   "id": "2646f7ac",
   "metadata": {},
   "outputs": [],
   "source": [
    "with open('../api/code/encoders/airbnb_price_net/1/neighbourhood_encoder.pickle', 'wb') as f: \n",
    "    pickle.dump(neighbourhood_encoder, f)"
   ]
  },
  {
   "cell_type": "code",
   "execution_count": 259,
   "id": "448d257d",
   "metadata": {},
   "outputs": [],
   "source": [
    "with open('../api/code/encoders/airbnb_price_net/1/property_type_encoder.pickle', 'wb') as f: \n",
    "    pickle.dump(property_type_encoder, f)"
   ]
  },
  {
   "cell_type": "code",
   "execution_count": 260,
   "id": "4a718ff5",
   "metadata": {},
   "outputs": [],
   "source": [
    "with open('../api/code/encoders/airbnb_price_net/1/room_type_encoder.pickle', 'wb') as f: \n",
    "    pickle.dump(room_type_encoder, f)"
   ]
  },
  {
   "cell_type": "markdown",
   "id": "74a157b2",
   "metadata": {},
   "source": [
    "#### To load the model, do the following:"
   ]
  },
  {
   "cell_type": "code",
   "execution_count": 181,
   "id": "78e0c769",
   "metadata": {},
   "outputs": [],
   "source": [
    "model_path = 'models/airbnb_price_net/1'"
   ]
  },
  {
   "cell_type": "code",
   "execution_count": 182,
   "id": "1201cfef",
   "metadata": {},
   "outputs": [],
   "source": [
    "new_net = tf.keras.models.load_model(model_path)"
   ]
  },
  {
   "cell_type": "code",
   "execution_count": 183,
   "id": "917bd327",
   "metadata": {},
   "outputs": [
    {
     "name": "stdout",
     "output_type": "stream",
     "text": [
      "Model: \"sequential_1\"\n",
      "_________________________________________________________________\n",
      "Layer (type)                 Output Shape              Param #   \n",
      "=================================================================\n",
      "dense_3 (Dense)              multiple                  11712     \n",
      "_________________________________________________________________\n",
      "dense_4 (Dense)              multiple                  4160      \n",
      "_________________________________________________________________\n",
      "dense_5 (Dense)              multiple                  65        \n",
      "=================================================================\n",
      "Total params: 15,937\n",
      "Trainable params: 15,937\n",
      "Non-trainable params: 0\n",
      "_________________________________________________________________\n"
     ]
    }
   ],
   "source": [
    "new_net.summary()"
   ]
  },
  {
   "cell_type": "code",
   "execution_count": 184,
   "id": "30536756",
   "metadata": {},
   "outputs": [
    {
     "data": {
      "text/plain": [
       "array([[16.716515]], dtype=float32)"
      ]
     },
     "execution_count": 184,
     "metadata": {},
     "output_type": "execute_result"
    }
   ],
   "source": [
    "new_net.predict([[0]*182])"
   ]
  },
  {
   "cell_type": "markdown",
   "id": "650297c8",
   "metadata": {},
   "source": [
    "### preprocessing pipeline"
   ]
  },
  {
   "cell_type": "markdown",
   "id": "b18bf8e1",
   "metadata": {},
   "source": [
    "as it can be used in the backend to process a post request"
   ]
  },
  {
   "cell_type": "code",
   "execution_count": 207,
   "id": "494d86eb",
   "metadata": {},
   "outputs": [
    {
     "data": {
      "text/plain": [
       "183"
      ]
     },
     "execution_count": 207,
     "metadata": {},
     "output_type": "execute_result"
    }
   ],
   "source": [
    "len(list(train_net.columns))"
   ]
  },
  {
   "cell_type": "markdown",
   "id": "2d96a9ba",
   "metadata": {},
   "source": [
    "so in order to make a prediction we need to make sure that attributes are correctly ordered, so let's have a look at the ordering"
   ]
  },
  {
   "cell_type": "code",
   "execution_count": 208,
   "id": "0084007b",
   "metadata": {},
   "outputs": [
    {
     "data": {
      "text/plain": [
       "['price',\n",
       " 'bathrooms',\n",
       " 'bedrooms',\n",
       " 'accommodates',\n",
       " 'guests_included',\n",
       " 'Gym',\n",
       " '\"Air conditioning\"',\n",
       " 'Elevator',\n",
       " 'Adlershof',\n",
       " 'Albrechtstr.',\n",
       " 'Alexanderplatz',\n",
       " 'Allende-Viertel',\n",
       " 'Alt  Treptow',\n",
       " 'Alt-Hohenschönhausen Nord',\n",
       " 'Alt-Hohenschönhausen Süd',\n",
       " 'Alt-Lichtenberg',\n",
       " 'Altglienicke',\n",
       " 'Altstadt-Kietz',\n",
       " 'Barstraße',\n",
       " 'Baumschulenweg',\n",
       " 'Biesdorf',\n",
       " 'Blankenburg/Heinersdorf/Märchenland',\n",
       " 'Blankenfelde/Niederschönhausen',\n",
       " 'Bohnsdorf',\n",
       " 'Britz',\n",
       " 'Brunnenstr. Nord',\n",
       " 'Brunnenstr. Süd',\n",
       " 'Brunsbütteler Damm',\n",
       " 'Buch',\n",
       " 'Buchholz',\n",
       " 'Buckow',\n",
       " 'Buckow Nord',\n",
       " 'Charlottenburg Nord',\n",
       " 'Dammvorstadt',\n",
       " 'Drakestr.',\n",
       " 'Düsseldorfer Straße',\n",
       " 'Falkenhagener Feld',\n",
       " 'Fennpfuhl',\n",
       " 'Forst Grunewald',\n",
       " 'Frankfurter Allee Nord',\n",
       " 'Frankfurter Allee Süd',\n",
       " 'Frankfurter Allee Süd FK',\n",
       " 'Friedenau',\n",
       " 'Friedrichsfelde Nord',\n",
       " 'Friedrichsfelde Süd',\n",
       " 'Friedrichshagen',\n",
       " 'Gatow / Kladow',\n",
       " 'Gropiusstadt',\n",
       " 'Grunewald',\n",
       " 'Grünau',\n",
       " 'Hakenfelde',\n",
       " 'Halensee',\n",
       " 'Haselhorst',\n",
       " 'Heerstrasse',\n",
       " 'Heerstraße Nord',\n",
       " 'Hellersdorf-Nord',\n",
       " 'Hellersdorf-Ost',\n",
       " 'Hellersdorf-Süd',\n",
       " 'Helmholtzplatz',\n",
       " 'Johannisthal',\n",
       " 'Kantstraße',\n",
       " 'Karl-Marx-Allee-Nord',\n",
       " 'Karl-Marx-Allee-Süd',\n",
       " 'Karlshorst',\n",
       " 'Karow',\n",
       " 'Kaulsdorf',\n",
       " 'Kurfürstendamm',\n",
       " 'Kölln. Vorstadt/Spindlersf.',\n",
       " 'Köllnische Heide',\n",
       " 'Köpenick-Nord',\n",
       " 'Köpenick-Süd',\n",
       " 'Lankwitz',\n",
       " 'Lichtenrade',\n",
       " 'MV 1',\n",
       " 'MV 2',\n",
       " 'Mahlsdorf',\n",
       " 'Malchow, Wartenberg und Falkenberg',\n",
       " 'Mariendorf',\n",
       " 'Marienfelde',\n",
       " 'Marzahn-Mitte',\n",
       " 'Marzahn-Nord',\n",
       " 'Marzahn-Süd',\n",
       " 'Mierendorffplatz',\n",
       " 'Moabit Ost',\n",
       " 'Moabit West',\n",
       " 'Müggelheim',\n",
       " 'Neu Lichtenberg',\n",
       " 'Neu-Hohenschönhausen Nord',\n",
       " 'Neu-Hohenschönhausen Süd',\n",
       " 'Neue Kantstraße',\n",
       " 'Neuköllner Mitte/Zentrum',\n",
       " 'Niederschöneweide',\n",
       " 'Nord 1',\n",
       " 'Nord 2',\n",
       " 'Oberschöneweide',\n",
       " 'Osloer Straße',\n",
       " 'Ost 1',\n",
       " 'Ost 2',\n",
       " 'Ostpreußendamm',\n",
       " 'Otto-Suhr-Allee',\n",
       " 'Pankow Süd',\n",
       " 'Pankow Zentrum',\n",
       " 'Parkviertel',\n",
       " 'Plänterwald',\n",
       " 'Prenzlauer Berg Nord',\n",
       " 'Prenzlauer Berg Nordwest',\n",
       " 'Prenzlauer Berg Ost',\n",
       " 'Prenzlauer Berg Süd',\n",
       " 'Prenzlauer Berg Südwest',\n",
       " 'Rahnsdorf/Hessenwinkel',\n",
       " 'Regierungsviertel',\n",
       " 'Reuterstraße',\n",
       " 'Rixdorf',\n",
       " 'Rudow',\n",
       " 'Rummelsburger Bucht',\n",
       " 'Schillerpromenade',\n",
       " 'Schloß Charlottenburg',\n",
       " 'Schloßstr.',\n",
       " 'Schmargendorf',\n",
       " 'Schmöckwitz/Karolinenhof/Rauchfangswerder',\n",
       " 'Schöneberg-Nord',\n",
       " 'Schöneberg-Süd',\n",
       " 'Schönholz/Wilhelmsruh/Rosenthal',\n",
       " 'Siemensstadt',\n",
       " 'Spandau Mitte',\n",
       " 'Südliche Friedrichstadt',\n",
       " 'Teltower Damm',\n",
       " 'Tempelhof',\n",
       " 'Tempelhofer Vorstadt',\n",
       " 'Tiergarten Süd',\n",
       " 'Volkspark Wilmersdorf',\n",
       " 'Wedding Zentrum',\n",
       " 'Weißensee',\n",
       " 'Weißensee Ost',\n",
       " 'West 1',\n",
       " 'West 2',\n",
       " 'West 3',\n",
       " 'West 4',\n",
       " 'West 5',\n",
       " 'Westend',\n",
       " 'Wiesbadener Straße',\n",
       " 'Wilhelmstadt',\n",
       " 'Zehlendorf  Nord',\n",
       " 'Zehlendorf  Südwest',\n",
       " 'nördliche Luisenstadt',\n",
       " 'südliche Luisenstadt',\n",
       " 'Aparthotel',\n",
       " 'Apartment',\n",
       " 'Barn',\n",
       " 'Bed and breakfast',\n",
       " 'Boat',\n",
       " 'Boutique hotel',\n",
       " 'Bungalow',\n",
       " 'Cabin',\n",
       " 'Camper/RV',\n",
       " 'Casa particular (Cuba)',\n",
       " 'Castle',\n",
       " 'Cave',\n",
       " 'Condominium',\n",
       " 'Cottage',\n",
       " 'Dome house',\n",
       " 'Guest suite',\n",
       " 'Guesthouse',\n",
       " 'Hostel',\n",
       " 'Hotel',\n",
       " 'House',\n",
       " 'Houseboat',\n",
       " 'Lighthouse',\n",
       " 'Loft',\n",
       " 'Other',\n",
       " 'Pension (South Korea)',\n",
       " 'Resort',\n",
       " 'Serviced apartment',\n",
       " 'Tiny house',\n",
       " 'Tipi',\n",
       " 'Townhouse',\n",
       " 'Treehouse',\n",
       " 'Vacation home',\n",
       " 'Villa',\n",
       " 'Entire home/apt',\n",
       " 'Hotel room',\n",
       " 'Private room',\n",
       " 'Shared room']"
      ]
     },
     "execution_count": 208,
     "metadata": {},
     "output_type": "execute_result"
    }
   ],
   "source": [
    "list(train_net.columns)"
   ]
  },
  {
   "cell_type": "markdown",
   "id": "38f3ca7a",
   "metadata": {},
   "source": [
    "so the list of features for making a prediction must be composed the following way:\n",
    "1. bathrooms [integer]\n",
    "2. bedrooms [integer]\n",
    "2. accommodates [integer]\n",
    "3. guests_included [integer]\n",
    "4. Gym [binary]\n",
    "5. Air conditioning [binary]\n",
    "6. Elevator [binary]\n",
    "7. Neighbourhood --> use the encoder!\n",
    "8. Property type --> use the encoder!\n",
    "9. Room type --> use the encoder!"
   ]
  },
  {
   "cell_type": "markdown",
   "id": "2b9bfbfa",
   "metadata": {},
   "source": [
    "an example"
   ]
  },
  {
   "cell_type": "code",
   "execution_count": 246,
   "id": "bcc8a148",
   "metadata": {},
   "outputs": [],
   "source": [
    "bathrooms = 2\n",
    "bedrooms = 2\n",
    "accommodates = 2\n",
    "guests_included = 2\n",
    "gym = 1\n",
    "ac = 0\n",
    "elevator = 1\n",
    "neighbourhood = neighbourhood_encoder.transform(['Mitte'])\n",
    "property_type = property_type_encoder.transform(['House'])\n",
    "room_type = room_type_encoder.transform(['Hotel Room'])"
   ]
  },
  {
   "cell_type": "code",
   "execution_count": 226,
   "id": "0bbfaaf3",
   "metadata": {},
   "outputs": [
    {
     "data": {
      "text/plain": [
       "array([0, 0, 0, 0, 0, 0, 0, 0, 0, 0, 0, 0, 0, 0, 0, 0, 0, 0, 0, 0, 0, 0,\n",
       "       0, 0, 0, 0, 0, 0, 0, 0, 0, 0, 0, 0, 0, 0, 0, 0, 0, 0, 0, 0, 0, 0,\n",
       "       0, 0, 0, 0, 0, 0, 0, 0, 0, 0, 0, 0, 0, 0, 0, 0, 0, 0, 0, 0, 0, 0,\n",
       "       0, 0, 0, 0, 0, 0, 0, 0, 0, 0, 0, 0, 0, 0, 0, 0, 0, 0, 0, 0, 0, 0,\n",
       "       0, 0, 0, 0, 0, 0, 0, 0, 0, 0, 0, 0, 0, 0, 0, 0, 0, 0, 0, 0, 0, 0,\n",
       "       0, 0, 0, 0, 0, 0, 0, 0, 0, 0, 0, 0, 0, 0, 0, 0, 0, 0, 0, 0, 0, 0,\n",
       "       0, 0, 0, 0, 0, 0])"
      ]
     },
     "execution_count": 226,
     "metadata": {},
     "output_type": "execute_result"
    }
   ],
   "source": [
    "neighbourhood[0]"
   ]
  },
  {
   "cell_type": "code",
   "execution_count": 247,
   "id": "8c224919",
   "metadata": {},
   "outputs": [],
   "source": [
    "pred_features = [bathrooms, bedrooms, accommodates, guests_included, gym, ac, elevator]"
   ]
  },
  {
   "cell_type": "code",
   "execution_count": 248,
   "id": "416b6d9d",
   "metadata": {},
   "outputs": [],
   "source": [
    "pred_features = pred_features + neighbourhood.tolist()[0] + property_type.tolist()[0] + room_type.tolist()[0]"
   ]
  },
  {
   "cell_type": "code",
   "execution_count": 249,
   "id": "9fe3c8fc",
   "metadata": {},
   "outputs": [
    {
     "data": {
      "text/plain": [
       "array([[185.07687]], dtype=float32)"
      ]
     },
     "execution_count": 249,
     "metadata": {},
     "output_type": "execute_result"
    }
   ],
   "source": [
    "net.predict([pred_features])"
   ]
  }
 ],
 "metadata": {
  "kernelspec": {
   "display_name": "Python 3",
   "language": "python",
   "name": "python3"
  },
  "language_info": {
   "codemirror_mode": {
    "name": "ipython",
    "version": 3
   },
   "file_extension": ".py",
   "mimetype": "text/x-python",
   "name": "python",
   "nbconvert_exporter": "python",
   "pygments_lexer": "ipython3",
   "version": "3.7.10"
  }
 },
 "nbformat": 4,
 "nbformat_minor": 5
}
